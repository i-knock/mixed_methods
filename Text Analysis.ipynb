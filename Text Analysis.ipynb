{
 "cells": [
  {
   "cell_type": "markdown",
   "metadata": {},
   "source": [
    "# Text analysis\n",
    "## Requisites\n",
    "Done in python as several libraries are good enough for the text analysis, or even better than in R.\n",
    "- Data scraping: `twint`\n",
    "- Data management: `pandas`\n",
    "  - https://pandas.pydata.org/pandas-docs/stable/user_guide/10min.html\n",
    "- Text processing and sentiment analysis: `nltk`\n",
    "  - Look at VADER for the sentiment analysis: `nltk.sentiment.vader.SentimentIntensityAnalyzer`\n",
    "- Plotting: `seaborn` (or the built-in pandas graphs)\n",
    "- Topic analysis: `corextopic`\n",
    "  - <a href='https://github.com/gregversteeg/corex_topic'>Github repo</a>\n",
    "\n",
    "## Steps\n",
    "1. Scrape tweets\n",
    "2. Import the data into pandas\n",
    "3. Sentiment analysis\n",
    "4. Process the text (e.g. tokenization, lemmatization, corpus, etc.)\n",
    "5. Word cloud\n",
    "6. Topic analysis\n",
    "7. Combine both sentiment and topic analysis"
   ]
  },
  {
   "cell_type": "markdown",
   "metadata": {},
   "source": [
    "## Visualizations functions"
   ]
  },
  {
   "cell_type": "code",
   "execution_count": 114,
   "metadata": {},
   "outputs": [],
   "source": [
    "from wordcloud import WordCloud\n",
    "import matplotlib.pyplot as plt\n",
    "def plot_wordcloud(tokens_list):\n",
    "    plt.figure()\n",
    "    mega_string = \" \".join(\" \".join(tokens) for tokens in tokens_list)\n",
    "    wordcloud = WordCloud(background_color=\"white\", max_words=10, stopwords=['harbor', 'port', 'harbour']).generate(mega_string)\n",
    "    plt.imshow(wordcloud, interpolation='bilinear')\n",
    "    plt.axis(\"off\")\n",
    "    plt.show()"
   ]
  },
  {
   "cell_type": "markdown",
   "metadata": {},
   "source": [
    "## 1. Scrape tweets\n",
    "Take into consideration that it can take around 1 hour to compile all of the tweets"
   ]
  },
  {
   "cell_type": "code",
   "execution_count": 43,
   "metadata": {},
   "outputs": [],
   "source": [
    "%matplotlib inline\n",
    "import matplotlib.pyplot as plt\n",
    "plt.rcParams['figure.figsize'] = [10, 5]\n",
    "\n",
    "\n",
    "file_name = f\"./twitter_data_port.csv\""
   ]
  },
  {
   "cell_type": "code",
   "execution_count": 4,
   "metadata": {},
   "outputs": [],
   "source": [
    "%%script false --no-raise-error\n",
    "# https://github.com/twintproject/twint/wiki/Configuration\n",
    "import twint\n",
    "\n",
    "values_to_search = [\n",
    "    \"#ABPSouthampton\",\n",
    "    \"#DP_World\",\n",
    "    \"#GaPorts\",\n",
    "    \"#PortofHamburg\",\n",
    "    \"#HutchisonPPC\",\n",
    "    \"#LondonPortAuth\",\n",
    "    \"#PANYNJ\",\n",
    "    \"#portdebarcelona\",\n",
    "    \"#PortMTL\",\n",
    "    \"#Port_Houston\",\n",
    "    \"#PortofAntwerp\",\n",
    "    \"#felixstowe_port\",\n",
    "    \"#portoflongbeach\",\n",
    "    \"#PortofLA\",\n",
    "    \"#PortofOakland\",\n",
    "    \"#PortOfRotterdam\",\n",
    "    \"#PortofSeattle\",\n",
    "    \"#PortVancouver\",\n",
    "    \"#Port_Zeebrugge\",\n",
    "    \"#portodigenova\",\n",
    "    \"#PuertoAlgeciras\",\n",
    "    \"#PuertodeCtg\",\n",
    "    \"#SCPorts\",\n",
    "    \"#PortofVirginia\",\n",
    "    \"#AutPortValencia\"\n",
    "]\n",
    "\n",
    "value = ['\"port\" and \"expansion\"'] # both words should be included\n",
    "\n",
    "value = ['port'] # only port\n",
    "\n",
    "value = ['harbour']\n",
    "\n",
    "c = twint.Config()\n",
    "for value in values_to_search:\n",
    "    # c.Limit = 1000\n",
    "    file_name = f\"./twitter_data_{value}.csv\"\n",
    "    c.Output = file_name\n",
    "    c.Store_csv = True\n",
    "    c.Search = value\n",
    "    c.Filter_retweets = True\n",
    "    c.Lang = \"en\"\n",
    "    twint.run.Search(c)"
   ]
  },
  {
   "cell_type": "markdown",
   "metadata": {},
   "source": [
    "## 2. Importing the data"
   ]
  },
  {
   "cell_type": "code",
   "execution_count": 5,
   "metadata": {},
   "outputs": [
    {
     "name": "stdout",
     "output_type": "stream",
     "text": [
      "<class 'pandas.core.frame.DataFrame'>\n",
      "RangeIndex: 69264 entries, 0 to 69263\n",
      "Data columns (total 36 columns):\n",
      " #   Column           Non-Null Count  Dtype  \n",
      "---  ------           --------------  -----  \n",
      " 0   id               69264 non-null  int64  \n",
      " 1   conversation_id  69264 non-null  int64  \n",
      " 2   created_at       69264 non-null  object \n",
      " 3   date             69264 non-null  object \n",
      " 4   time             69264 non-null  object \n",
      " 5   timezone         69264 non-null  int64  \n",
      " 6   user_id          69264 non-null  int64  \n",
      " 7   username         69264 non-null  object \n",
      " 8   name             69261 non-null  object \n",
      " 9   place            2011 non-null   object \n",
      " 10  tweet            69264 non-null  object \n",
      " 11  language         69264 non-null  object \n",
      " 12  mentions         69264 non-null  object \n",
      " 13  urls             69264 non-null  object \n",
      " 14  photos           69264 non-null  object \n",
      " 15  replies_count    69264 non-null  int64  \n",
      " 16  retweets_count   69264 non-null  int64  \n",
      " 17  likes_count      69264 non-null  int64  \n",
      " 18  hashtags         69264 non-null  object \n",
      " 19  cashtags         69264 non-null  object \n",
      " 20  link             69264 non-null  object \n",
      " 21  retweet          69264 non-null  bool   \n",
      " 22  quote_url        3903 non-null   object \n",
      " 23  video            69264 non-null  int64  \n",
      " 24  thumbnail        11645 non-null  object \n",
      " 25  near             0 non-null      float64\n",
      " 26  geo              0 non-null      float64\n",
      " 27  source           0 non-null      float64\n",
      " 28  user_rt_id       0 non-null      float64\n",
      " 29  user_rt          0 non-null      float64\n",
      " 30  retweet_id       0 non-null      float64\n",
      " 31  reply_to         69264 non-null  object \n",
      " 32  retweet_date     0 non-null      float64\n",
      " 33  translate        0 non-null      float64\n",
      " 34  trans_src        0 non-null      float64\n",
      " 35  trans_dest       0 non-null      float64\n",
      "dtypes: bool(1), float64(10), int64(8), object(17)\n",
      "memory usage: 18.6+ MB\n"
     ]
    }
   ],
   "source": [
    "import pandas as pd\n",
    "twitter_data = pd.read_csv(file_name)\n",
    "twitter_data.info()"
   ]
  },
  {
   "cell_type": "markdown",
   "metadata": {},
   "source": [
    "As we have collected a few datasets, we can combine them into a single (massive) one if we want to.\n",
    "\n",
    "A small example has been included for confirmation."
   ]
  },
  {
   "cell_type": "code",
   "execution_count": 6,
   "metadata": {},
   "outputs": [],
   "source": [
    "%%script false --no-raise-error\n",
    "# Example\n",
    "test_1 = pd.read_csv(\"./test_1.csv\")\n",
    "test_2 = pd.read_csv(\"./test_2.csv\")\n",
    "twitter_data = pd.concat([test_1, test_2]) # this way we don't get duplicate tweets\n",
    "twitter_data.drop_duplicates(subset='id', inplace=True)\n",
    "twitter_data.reset_index(drop=True, inplace=True)"
   ]
  },
  {
   "cell_type": "code",
   "execution_count": 7,
   "metadata": {},
   "outputs": [
    {
     "name": "stdout",
     "output_type": "stream",
     "text": [
      "Size of data: 162382\n"
     ]
    }
   ],
   "source": [
    "# %%script false --no-raise-error\n",
    "all_files = [\n",
    "    \"./all_hashtags.csv\",\n",
    "    \"./twitter_data_harbor.csv\",\n",
    "    \"./twitter_data_port.csv\",\n",
    "    \"./mega_twitter_data_port.csv\"\n",
    "]\n",
    "\n",
    "twitter_data = pd.read_csv(all_files[0])\n",
    "for file in all_files:\n",
    "    temp_data = pd.read_csv(file)\n",
    "    twitter_data = pd.concat([twitter_data, temp_data]) # this way we don't get duplicate tweets\n",
    "twitter_data.drop_duplicates(subset='id', inplace=True)\n",
    "twitter_data.reset_index(drop=True, inplace=True)\n",
    "print(f\"Size of data: {len(twitter_data.index)}\")"
   ]
  },
  {
   "cell_type": "code",
   "execution_count": 8,
   "metadata": {},
   "outputs": [
    {
     "name": "stdout",
     "output_type": "stream",
     "text": [
      "Reduced size (i.e. removing by contecnt, language, etc)118919\n"
     ]
    },
    {
     "data": {
      "text/html": [
       "<div>\n",
       "<style scoped>\n",
       "    .dataframe tbody tr th:only-of-type {\n",
       "        vertical-align: middle;\n",
       "    }\n",
       "\n",
       "    .dataframe tbody tr th {\n",
       "        vertical-align: top;\n",
       "    }\n",
       "\n",
       "    .dataframe thead th {\n",
       "        text-align: right;\n",
       "    }\n",
       "</style>\n",
       "<table border=\"1\" class=\"dataframe\">\n",
       "  <thead>\n",
       "    <tr style=\"text-align: right;\">\n",
       "      <th></th>\n",
       "      <th>id</th>\n",
       "      <th>tweet</th>\n",
       "      <th>clean_tweet</th>\n",
       "    </tr>\n",
       "  </thead>\n",
       "  <tbody>\n",
       "    <tr>\n",
       "      <th>0</th>\n",
       "      <td>1492573501542313990</td>\n",
       "      <td>@arabnews @united4wildlife @EarthshotPrize @Ke...</td>\n",
       "      <td>#Expo2020Dubai was wonderful and seeing...</td>\n",
       "    </tr>\n",
       "    <tr>\n",
       "      <th>1</th>\n",
       "      <td>1492537612757872645</td>\n",
       "      <td>Speaking of #DP_World, they are now collaborat...</td>\n",
       "      <td>Speaking of #DP_World, they are now collaborat...</td>\n",
       "    </tr>\n",
       "    <tr>\n",
       "      <th>2</th>\n",
       "      <td>1492537610253836296</td>\n",
       "      <td>EarthShot winners and finalists got to promote...</td>\n",
       "      <td>EarthShot winners and finalists got to promote...</td>\n",
       "    </tr>\n",
       "    <tr>\n",
       "      <th>3</th>\n",
       "      <td>1492492122557145092</td>\n",
       "      <td>@JaniceC28477503 @CamillaTominey Speaking of #...</td>\n",
       "      <td>Speaking of #DP_World, they are now collabor...</td>\n",
       "    </tr>\n",
       "    <tr>\n",
       "      <th>4</th>\n",
       "      <td>1492490261347373062</td>\n",
       "      <td>@JaniceC28477503 @CamillaTominey EarthShot win...</td>\n",
       "      <td>EarthShot winners and finalists got to promo...</td>\n",
       "    </tr>\n",
       "    <tr>\n",
       "      <th>5</th>\n",
       "      <td>1492316180614467590</td>\n",
       "      <td>@DP_World @JudithNeile @tusk_org @expo2020duba...</td>\n",
       "      <td>Thank you #DP_World 💕. #Tusk is an amazing...</td>\n",
       "    </tr>\n",
       "    <tr>\n",
       "      <th>6</th>\n",
       "      <td>1492183718102016004</td>\n",
       "      <td>@MayhewCharlie @DP_World @EarthshotPrize @unit...</td>\n",
       "      <td>Yes thank you #DP_World for supporting t...</td>\n",
       "    </tr>\n",
       "    <tr>\n",
       "      <th>7</th>\n",
       "      <td>1491891910876749824</td>\n",
       "      <td>@KensingtonRoyal @EarthshotPrize @expo2020duba...</td>\n",
       "      <td>It is brilliant the  winners and finalists ...</td>\n",
       "    </tr>\n",
       "    <tr>\n",
       "      <th>8</th>\n",
       "      <td>1488377369975222274</td>\n",
       "      <td>#DP_World signs agreement with another major t...</td>\n",
       "      <td>#DP_World signs agreement with another major t...</td>\n",
       "    </tr>\n",
       "    <tr>\n",
       "      <th>9</th>\n",
       "      <td>1487180213926699013</td>\n",
       "      <td>Today, I visited the #DP_World Pavilion at #ex...</td>\n",
       "      <td>Today, I visited the #DP_World Pavilion at #ex...</td>\n",
       "    </tr>\n",
       "  </tbody>\n",
       "</table>\n",
       "</div>"
      ],
      "text/plain": [
       "                    id                                              tweet  \\\n",
       "0  1492573501542313990  @arabnews @united4wildlife @EarthshotPrize @Ke...   \n",
       "1  1492537612757872645  Speaking of #DP_World, they are now collaborat...   \n",
       "2  1492537610253836296  EarthShot winners and finalists got to promote...   \n",
       "3  1492492122557145092  @JaniceC28477503 @CamillaTominey Speaking of #...   \n",
       "4  1492490261347373062  @JaniceC28477503 @CamillaTominey EarthShot win...   \n",
       "5  1492316180614467590  @DP_World @JudithNeile @tusk_org @expo2020duba...   \n",
       "6  1492183718102016004  @MayhewCharlie @DP_World @EarthshotPrize @unit...   \n",
       "7  1491891910876749824  @KensingtonRoyal @EarthshotPrize @expo2020duba...   \n",
       "8  1488377369975222274  #DP_World signs agreement with another major t...   \n",
       "9  1487180213926699013  Today, I visited the #DP_World Pavilion at #ex...   \n",
       "\n",
       "                                         clean_tweet  \n",
       "0         #Expo2020Dubai was wonderful and seeing...  \n",
       "1  Speaking of #DP_World, they are now collaborat...  \n",
       "2  EarthShot winners and finalists got to promote...  \n",
       "3    Speaking of #DP_World, they are now collabor...  \n",
       "4    EarthShot winners and finalists got to promo...  \n",
       "5      Thank you #DP_World 💕. #Tusk is an amazing...  \n",
       "6        Yes thank you #DP_World for supporting t...  \n",
       "7     It is brilliant the  winners and finalists ...  \n",
       "8  #DP_World signs agreement with another major t...  \n",
       "9  Today, I visited the #DP_World Pavilion at #ex...  "
      ]
     },
     "execution_count": 8,
     "metadata": {},
     "output_type": "execute_result"
    }
   ],
   "source": [
    "import re\n",
    "\n",
    "# Only take the columns that are interesting\n",
    "reduced_twitter = twitter_data[\n",
    "    # Only English tweets\n",
    "    (twitter_data['language']=='en') &\n",
    "    # Only original tweets, no retweets\n",
    "    (twitter_data['retweet']==False)\n",
    "]\n",
    "\n",
    "# Reduce size by only taking tweets and id\n",
    "columns_to_keep = pd.Series(['id', 'tweet'])\n",
    "reduced_twitter = reduced_twitter[columns_to_keep]\n",
    "\n",
    "# Clean tweets from hastags, mentions, etc.\n",
    "regex_cleanup_strings = [\n",
    "    # Remove links\n",
    "    r\"\\S*https?:\\S*\",\n",
    "    # Remove hashtags\n",
    "    # \"#([a-zA-Z0-9_]{1,50})\",\n",
    "    # Remove mentions\n",
    "    r\"(?:\\@|https?\\://)\\S+\"\n",
    "]\n",
    "reduced_twitter[\"clean_tweet\"] = reduced_twitter[\"tweet\"]\n",
    "for reg_string in regex_cleanup_strings:\n",
    "    reduced_twitter[\"clean_tweet\"] = reduced_twitter[\"clean_tweet\"].replace(reg_string, '', regex=True)\n",
    "\n",
    "reduced_twitter.reset_index(drop=True,inplace=True)\n",
    "print(f\"Reduced size (i.e. removing by contecnt, language, etc){len(reduced_twitter.index)}\")\n",
    "reduced_twitter.head(10)"
   ]
  },
  {
   "cell_type": "markdown",
   "metadata": {},
   "source": [
    "## Sentiment analysis\n",
    "For sentiment analysis, VADER rates depending on the form of the word. Therefore, it should NOT be lemmatized or stemmed. For topic classification, it SHOULD be, as a bag-of-words is given."
   ]
  },
  {
   "cell_type": "code",
   "execution_count": 9,
   "metadata": {},
   "outputs": [
    {
     "name": "stderr",
     "output_type": "stream",
     "text": [
      "[nltk_data] Downloading package vader_lexicon to\n",
      "[nltk_data]     /Users/antoniosanchezmartin/nltk_data...\n",
      "[nltk_data]   Package vader_lexicon is already up-to-date!\n"
     ]
    },
    {
     "data": {
      "text/html": [
       "<div>\n",
       "<style scoped>\n",
       "    .dataframe tbody tr th:only-of-type {\n",
       "        vertical-align: middle;\n",
       "    }\n",
       "\n",
       "    .dataframe tbody tr th {\n",
       "        vertical-align: top;\n",
       "    }\n",
       "\n",
       "    .dataframe thead th {\n",
       "        text-align: right;\n",
       "    }\n",
       "</style>\n",
       "<table border=\"1\" class=\"dataframe\">\n",
       "  <thead>\n",
       "    <tr style=\"text-align: right;\">\n",
       "      <th></th>\n",
       "      <th>id</th>\n",
       "      <th>tweet</th>\n",
       "      <th>clean_tweet</th>\n",
       "      <th>neg</th>\n",
       "      <th>neu</th>\n",
       "      <th>pos</th>\n",
       "      <th>compound</th>\n",
       "    </tr>\n",
       "  </thead>\n",
       "  <tbody>\n",
       "    <tr>\n",
       "      <th>104017</th>\n",
       "      <td>1505619688499425282</td>\n",
       "      <td>@Landlorduh1 Enjoy 😊</td>\n",
       "      <td>Enjoy 😊</td>\n",
       "      <td>0.0</td>\n",
       "      <td>0.0</td>\n",
       "      <td>1.0</td>\n",
       "      <td>0.4939</td>\n",
       "    </tr>\n",
       "    <tr>\n",
       "      <th>18543</th>\n",
       "      <td>1501824047532941312</td>\n",
       "      <td>@juliaioffe God, God</td>\n",
       "      <td>God, God</td>\n",
       "      <td>0.0</td>\n",
       "      <td>0.0</td>\n",
       "      <td>1.0</td>\n",
       "      <td>0.4939</td>\n",
       "    </tr>\n",
       "    <tr>\n",
       "      <th>41079</th>\n",
       "      <td>1498141957612195841</td>\n",
       "      <td>@americandog98 true</td>\n",
       "      <td>true</td>\n",
       "      <td>0.0</td>\n",
       "      <td>0.0</td>\n",
       "      <td>1.0</td>\n",
       "      <td>0.4215</td>\n",
       "    </tr>\n",
       "    <tr>\n",
       "      <th>115620</th>\n",
       "      <td>1505324095151476742</td>\n",
       "      <td>@Leslie_B68 Thanks</td>\n",
       "      <td>Thanks</td>\n",
       "      <td>0.0</td>\n",
       "      <td>0.0</td>\n",
       "      <td>1.0</td>\n",
       "      <td>0.4404</td>\n",
       "    </tr>\n",
       "    <tr>\n",
       "      <th>75476</th>\n",
       "      <td>1497253471745196042</td>\n",
       "      <td>@Keribaby106 Lolz</td>\n",
       "      <td>Lolz</td>\n",
       "      <td>0.0</td>\n",
       "      <td>0.0</td>\n",
       "      <td>1.0</td>\n",
       "      <td>0.5719</td>\n",
       "    </tr>\n",
       "    <tr>\n",
       "      <th>90564</th>\n",
       "      <td>1505925510152568833</td>\n",
       "      <td>Congratulations 🎉</td>\n",
       "      <td>Congratulations 🎉</td>\n",
       "      <td>0.0</td>\n",
       "      <td>0.0</td>\n",
       "      <td>1.0</td>\n",
       "      <td>0.5994</td>\n",
       "    </tr>\n",
       "    <tr>\n",
       "      <th>17968</th>\n",
       "      <td>1501890821473325061</td>\n",
       "      <td>Congrats @jemillerwbal !</td>\n",
       "      <td>Congrats  !</td>\n",
       "      <td>0.0</td>\n",
       "      <td>0.0</td>\n",
       "      <td>1.0</td>\n",
       "      <td>0.5707</td>\n",
       "    </tr>\n",
       "    <tr>\n",
       "      <th>99391</th>\n",
       "      <td>1505720433232199682</td>\n",
       "      <td>@the_epic_war Great  @chain_port @solster_fina...</td>\n",
       "      <td>Great</td>\n",
       "      <td>0.0</td>\n",
       "      <td>0.0</td>\n",
       "      <td>1.0</td>\n",
       "      <td>0.6249</td>\n",
       "    </tr>\n",
       "    <tr>\n",
       "      <th>41901</th>\n",
       "      <td>1498119330567016449</td>\n",
       "      <td>@TOYINSWEETSTEW Cute</td>\n",
       "      <td>Cute</td>\n",
       "      <td>0.0</td>\n",
       "      <td>0.0</td>\n",
       "      <td>1.0</td>\n",
       "      <td>0.4588</td>\n",
       "    </tr>\n",
       "    <tr>\n",
       "      <th>110821</th>\n",
       "      <td>1505461358770651140</td>\n",
       "      <td>@vnsgwr Cute.</td>\n",
       "      <td>Cute.</td>\n",
       "      <td>0.0</td>\n",
       "      <td>0.0</td>\n",
       "      <td>1.0</td>\n",
       "      <td>0.4588</td>\n",
       "    </tr>\n",
       "  </tbody>\n",
       "</table>\n",
       "</div>"
      ],
      "text/plain": [
       "                         id  \\\n",
       "104017  1505619688499425282   \n",
       "18543   1501824047532941312   \n",
       "41079   1498141957612195841   \n",
       "115620  1505324095151476742   \n",
       "75476   1497253471745196042   \n",
       "90564   1505925510152568833   \n",
       "17968   1501890821473325061   \n",
       "99391   1505720433232199682   \n",
       "41901   1498119330567016449   \n",
       "110821  1505461358770651140   \n",
       "\n",
       "                                                    tweet        clean_tweet  \\\n",
       "104017                               @Landlorduh1 Enjoy 😊            Enjoy 😊   \n",
       "18543                                @juliaioffe God, God           God, God   \n",
       "41079                                 @americandog98 true               true   \n",
       "115620                                 @Leslie_B68 Thanks             Thanks   \n",
       "75476                                   @Keribaby106 Lolz               Lolz   \n",
       "90564                                   Congratulations 🎉  Congratulations 🎉   \n",
       "17968                            Congrats @jemillerwbal !        Congrats  !   \n",
       "99391   @the_epic_war Great  @chain_port @solster_fina...          Great       \n",
       "41901                                @TOYINSWEETSTEW Cute               Cute   \n",
       "110821                                      @vnsgwr Cute.              Cute.   \n",
       "\n",
       "        neg  neu  pos  compound  \n",
       "104017  0.0  0.0  1.0    0.4939  \n",
       "18543   0.0  0.0  1.0    0.4939  \n",
       "41079   0.0  0.0  1.0    0.4215  \n",
       "115620  0.0  0.0  1.0    0.4404  \n",
       "75476   0.0  0.0  1.0    0.5719  \n",
       "90564   0.0  0.0  1.0    0.5994  \n",
       "17968   0.0  0.0  1.0    0.5707  \n",
       "99391   0.0  0.0  1.0    0.6249  \n",
       "41901   0.0  0.0  1.0    0.4588  \n",
       "110821  0.0  0.0  1.0    0.4588  "
      ]
     },
     "execution_count": 9,
     "metadata": {},
     "output_type": "execute_result"
    }
   ],
   "source": [
    "# Sentiment analysis using VADER\n",
    "import nltk\n",
    "nltk.download('vader_lexicon')\n",
    "from nltk.sentiment.vader import SentimentIntensityAnalyzer\n",
    "\n",
    "sid = SentimentIntensityAnalyzer()\n",
    "\n",
    "sentiment_analysis = pd.DataFrame(sid.polarity_scores(clean_tweet) for clean_tweet in reduced_twitter[\"clean_tweet\"])\n",
    "\n",
    "processed_twitter = pd.concat([reduced_twitter,  sentiment_analysis], axis=1)\n",
    "processed_twitter.sort_values(by=['pos'], ascending=False).head(10)\n"
   ]
  },
  {
   "cell_type": "markdown",
   "metadata": {},
   "source": [
    "### Absolute sentiment"
   ]
  },
  {
   "cell_type": "code",
   "execution_count": 10,
   "metadata": {},
   "outputs": [
    {
     "data": {
      "text/html": [
       "<div>\n",
       "<style scoped>\n",
       "    .dataframe tbody tr th:only-of-type {\n",
       "        vertical-align: middle;\n",
       "    }\n",
       "\n",
       "    .dataframe tbody tr th {\n",
       "        vertical-align: top;\n",
       "    }\n",
       "\n",
       "    .dataframe thead th {\n",
       "        text-align: right;\n",
       "    }\n",
       "</style>\n",
       "<table border=\"1\" class=\"dataframe\">\n",
       "  <thead>\n",
       "    <tr style=\"text-align: right;\">\n",
       "      <th></th>\n",
       "      <th>id</th>\n",
       "      <th>tweet</th>\n",
       "      <th>clean_tweet</th>\n",
       "      <th>neg</th>\n",
       "      <th>neu</th>\n",
       "      <th>pos</th>\n",
       "      <th>compound</th>\n",
       "      <th>abs_sent</th>\n",
       "    </tr>\n",
       "  </thead>\n",
       "  <tbody>\n",
       "    <tr>\n",
       "      <th>0</th>\n",
       "      <td>1492573501542313990</td>\n",
       "      <td>@arabnews @united4wildlife @EarthshotPrize @Ke...</td>\n",
       "      <td>#Expo2020Dubai was wonderful and seeing...</td>\n",
       "      <td>0.092</td>\n",
       "      <td>0.534</td>\n",
       "      <td>0.373</td>\n",
       "      <td>0.9355</td>\n",
       "      <td>neutral</td>\n",
       "    </tr>\n",
       "    <tr>\n",
       "      <th>1</th>\n",
       "      <td>1492537612757872645</td>\n",
       "      <td>Speaking of #DP_World, they are now collaborat...</td>\n",
       "      <td>Speaking of #DP_World, they are now collaborat...</td>\n",
       "      <td>0.131</td>\n",
       "      <td>0.766</td>\n",
       "      <td>0.102</td>\n",
       "      <td>-0.2023</td>\n",
       "      <td>neutral</td>\n",
       "    </tr>\n",
       "    <tr>\n",
       "      <th>2</th>\n",
       "      <td>1492537610253836296</td>\n",
       "      <td>EarthShot winners and finalists got to promote...</td>\n",
       "      <td>EarthShot winners and finalists got to promote...</td>\n",
       "      <td>0.000</td>\n",
       "      <td>0.749</td>\n",
       "      <td>0.251</td>\n",
       "      <td>0.6908</td>\n",
       "      <td>neutral</td>\n",
       "    </tr>\n",
       "    <tr>\n",
       "      <th>3</th>\n",
       "      <td>1492492122557145092</td>\n",
       "      <td>@JaniceC28477503 @CamillaTominey Speaking of #...</td>\n",
       "      <td>Speaking of #DP_World, they are now collabor...</td>\n",
       "      <td>0.131</td>\n",
       "      <td>0.766</td>\n",
       "      <td>0.102</td>\n",
       "      <td>-0.2023</td>\n",
       "      <td>neutral</td>\n",
       "    </tr>\n",
       "    <tr>\n",
       "      <th>4</th>\n",
       "      <td>1492490261347373062</td>\n",
       "      <td>@JaniceC28477503 @CamillaTominey EarthShot win...</td>\n",
       "      <td>EarthShot winners and finalists got to promo...</td>\n",
       "      <td>0.000</td>\n",
       "      <td>0.749</td>\n",
       "      <td>0.251</td>\n",
       "      <td>0.6908</td>\n",
       "      <td>neutral</td>\n",
       "    </tr>\n",
       "  </tbody>\n",
       "</table>\n",
       "</div>"
      ],
      "text/plain": [
       "                    id                                              tweet  \\\n",
       "0  1492573501542313990  @arabnews @united4wildlife @EarthshotPrize @Ke...   \n",
       "1  1492537612757872645  Speaking of #DP_World, they are now collaborat...   \n",
       "2  1492537610253836296  EarthShot winners and finalists got to promote...   \n",
       "3  1492492122557145092  @JaniceC28477503 @CamillaTominey Speaking of #...   \n",
       "4  1492490261347373062  @JaniceC28477503 @CamillaTominey EarthShot win...   \n",
       "\n",
       "                                         clean_tweet    neg    neu    pos  \\\n",
       "0         #Expo2020Dubai was wonderful and seeing...  0.092  0.534  0.373   \n",
       "1  Speaking of #DP_World, they are now collaborat...  0.131  0.766  0.102   \n",
       "2  EarthShot winners and finalists got to promote...  0.000  0.749  0.251   \n",
       "3    Speaking of #DP_World, they are now collabor...  0.131  0.766  0.102   \n",
       "4    EarthShot winners and finalists got to promo...  0.000  0.749  0.251   \n",
       "\n",
       "   compound abs_sent  \n",
       "0    0.9355  neutral  \n",
       "1   -0.2023  neutral  \n",
       "2    0.6908  neutral  \n",
       "3   -0.2023  neutral  \n",
       "4    0.6908  neutral  "
      ]
     },
     "execution_count": 10,
     "metadata": {},
     "output_type": "execute_result"
    }
   ],
   "source": [
    "import numpy as np\n",
    "def absolute_sent(sent_list):\n",
    "    max_index = np.argmax(np.array(sent_list))\n",
    "    if max_index == 0:\n",
    "        return 'negative'\n",
    "    elif max_index == 1:\n",
    "        return 'neutral'\n",
    "    else:\n",
    "        return 'positive'\n",
    "\n",
    "processed_twitter[\"abs_sent\"] = processed_twitter.apply(lambda sent: absolute_sent([sent['neg'], sent['neu'], sent['pos']]), axis=1)\n",
    "processed_twitter.head()"
   ]
  },
  {
   "cell_type": "markdown",
   "metadata": {},
   "source": [
    "## Process the text (e.g. tokenization, lemmatization and stop-words)"
   ]
  },
  {
   "cell_type": "code",
   "execution_count": 11,
   "metadata": {},
   "outputs": [
    {
     "name": "stderr",
     "output_type": "stream",
     "text": [
      "[nltk_data] Downloading package wordnet to\n",
      "[nltk_data]     /Users/antoniosanchezmartin/nltk_data...\n",
      "[nltk_data]   Package wordnet is already up-to-date!\n",
      "[nltk_data] Downloading package omw-1.4 to\n",
      "[nltk_data]     /Users/antoniosanchezmartin/nltk_data...\n",
      "[nltk_data]   Package omw-1.4 is already up-to-date!\n",
      "[nltk_data] Downloading package punkt to\n",
      "[nltk_data]     /Users/antoniosanchezmartin/nltk_data...\n",
      "[nltk_data]   Package punkt is already up-to-date!\n",
      "[nltk_data] Downloading package stopwords to\n",
      "[nltk_data]     /Users/antoniosanchezmartin/nltk_data...\n",
      "[nltk_data]   Package stopwords is already up-to-date!\n"
     ]
    },
    {
     "name": "stdout",
     "output_type": "stream",
     "text": [
      "This is a very random test sentence. Let's see what happens churches\n",
      "['this', 'is', 'a', 'very', 'random', 'test', 'sentence', '.', 'let', \"'s\", 'see', 'what', 'happens', 'churches']\n",
      "['this', 'is', 'a', 'very', 'random', 'test', 'sentence', 'let', 'see', 'what', 'happens', 'churches']\n",
      "['random', 'test', 'sentence', 'let', 'see', 'happens', 'churches']\n",
      "['random', 'test', 'sentence', 'let', 'see', 'happens', 'church']\n"
     ]
    },
    {
     "data": {
      "text/plain": [
       "['random', 'test', 'sentence', 'let', 'see', 'happens', 'church']"
      ]
     },
     "execution_count": 11,
     "metadata": {},
     "output_type": "execute_result"
    }
   ],
   "source": [
    "nltk.download('wordnet')\n",
    "nltk.download('omw-1.4')\n",
    "nltk.download('punkt')\n",
    "nltk.download('stopwords')\n",
    "import nltk\n",
    "\n",
    "test_sentence = \"This is a very random test sentence. Let's see what happens churches\"\n",
    "print(test_sentence)\n",
    "\n",
    "def sentence_processing(sentence:str, printing:bool = False):\n",
    "    # Tokenize\n",
    "    tokens = nltk.tokenize.word_tokenize(sentence.lower())\n",
    "    if printing: print(tokens)\n",
    "\n",
    "    # Remove punctuation\n",
    "    tokens = [token for token in tokens if token.isalnum()]\n",
    "    if printing: print(tokens)\n",
    "\n",
    "    # Remove stopwords\n",
    "    stop_words = set(nltk.corpus.stopwords.words('english'))  \n",
    "    tokens = [w for w in tokens if not w in stop_words]\n",
    "    if printing: print(tokens)\n",
    "\n",
    "    # Lemmatice\n",
    "    lemmatizer = nltk.stem.WordNetLemmatizer()\n",
    "    tokens = [lemmatizer.lemmatize(w) for w in tokens]\n",
    "    if printing: print(tokens)\n",
    "\n",
    "    # Stemming\n",
    "    # stemmer = nltk.stem.SnowballStemmer(\"english\")\n",
    "    # tokens = [stemmer.stem(w) for w in tokens]\n",
    "    # if printing: print(tokens)\n",
    "\n",
    "    return tokens\n",
    "\n",
    "sentence_processing(test_sentence, printing=True)"
   ]
  },
  {
   "cell_type": "code",
   "execution_count": 12,
   "metadata": {},
   "outputs": [
    {
     "data": {
      "text/html": [
       "<div>\n",
       "<style scoped>\n",
       "    .dataframe tbody tr th:only-of-type {\n",
       "        vertical-align: middle;\n",
       "    }\n",
       "\n",
       "    .dataframe tbody tr th {\n",
       "        vertical-align: top;\n",
       "    }\n",
       "\n",
       "    .dataframe thead th {\n",
       "        text-align: right;\n",
       "    }\n",
       "</style>\n",
       "<table border=\"1\" class=\"dataframe\">\n",
       "  <thead>\n",
       "    <tr style=\"text-align: right;\">\n",
       "      <th></th>\n",
       "      <th>id</th>\n",
       "      <th>tweet</th>\n",
       "      <th>clean_tweet</th>\n",
       "      <th>neg</th>\n",
       "      <th>neu</th>\n",
       "      <th>pos</th>\n",
       "      <th>compound</th>\n",
       "      <th>abs_sent</th>\n",
       "      <th>tokens</th>\n",
       "    </tr>\n",
       "  </thead>\n",
       "  <tbody>\n",
       "    <tr>\n",
       "      <th>0</th>\n",
       "      <td>1492573501542313990</td>\n",
       "      <td>@arabnews @united4wildlife @EarthshotPrize @Ke...</td>\n",
       "      <td>#Expo2020Dubai was wonderful and seeing...</td>\n",
       "      <td>0.092</td>\n",
       "      <td>0.534</td>\n",
       "      <td>0.373</td>\n",
       "      <td>0.9355</td>\n",
       "      <td>neutral</td>\n",
       "      <td>[expo2020dubai, wonderful, seeing, princewilli...</td>\n",
       "    </tr>\n",
       "    <tr>\n",
       "      <th>1</th>\n",
       "      <td>1492537612757872645</td>\n",
       "      <td>Speaking of #DP_World, they are now collaborat...</td>\n",
       "      <td>Speaking of #DP_World, they are now collaborat...</td>\n",
       "      <td>0.131</td>\n",
       "      <td>0.766</td>\n",
       "      <td>0.102</td>\n",
       "      <td>-0.2023</td>\n",
       "      <td>neutral</td>\n",
       "      <td>[speaking, collaborating, another, princewilli...</td>\n",
       "    </tr>\n",
       "    <tr>\n",
       "      <th>2</th>\n",
       "      <td>1492537610253836296</td>\n",
       "      <td>EarthShot winners and finalists got to promote...</td>\n",
       "      <td>EarthShot winners and finalists got to promote...</td>\n",
       "      <td>0.000</td>\n",
       "      <td>0.749</td>\n",
       "      <td>0.251</td>\n",
       "      <td>0.6908</td>\n",
       "      <td>neutral</td>\n",
       "      <td>[earthshot, winner, finalist, got, promote, wo...</td>\n",
       "    </tr>\n",
       "    <tr>\n",
       "      <th>3</th>\n",
       "      <td>1492492122557145092</td>\n",
       "      <td>@JaniceC28477503 @CamillaTominey Speaking of #...</td>\n",
       "      <td>Speaking of #DP_World, they are now collabor...</td>\n",
       "      <td>0.131</td>\n",
       "      <td>0.766</td>\n",
       "      <td>0.102</td>\n",
       "      <td>-0.2023</td>\n",
       "      <td>neutral</td>\n",
       "      <td>[speaking, collaborating, another, princewilli...</td>\n",
       "    </tr>\n",
       "    <tr>\n",
       "      <th>4</th>\n",
       "      <td>1492490261347373062</td>\n",
       "      <td>@JaniceC28477503 @CamillaTominey EarthShot win...</td>\n",
       "      <td>EarthShot winners and finalists got to promo...</td>\n",
       "      <td>0.000</td>\n",
       "      <td>0.749</td>\n",
       "      <td>0.251</td>\n",
       "      <td>0.6908</td>\n",
       "      <td>neutral</td>\n",
       "      <td>[earthshot, winner, finalist, got, promote, wo...</td>\n",
       "    </tr>\n",
       "    <tr>\n",
       "      <th>5</th>\n",
       "      <td>1492316180614467590</td>\n",
       "      <td>@DP_World @JudithNeile @tusk_org @expo2020duba...</td>\n",
       "      <td>Thank you #DP_World 💕. #Tusk is an amazing...</td>\n",
       "      <td>0.000</td>\n",
       "      <td>0.565</td>\n",
       "      <td>0.435</td>\n",
       "      <td>0.9274</td>\n",
       "      <td>neutral</td>\n",
       "      <td>[thank, tusk, amazing, organisation, glad, joi...</td>\n",
       "    </tr>\n",
       "    <tr>\n",
       "      <th>6</th>\n",
       "      <td>1492183718102016004</td>\n",
       "      <td>@MayhewCharlie @DP_World @EarthshotPrize @unit...</td>\n",
       "      <td>Yes thank you #DP_World for supporting t...</td>\n",
       "      <td>0.000</td>\n",
       "      <td>0.286</td>\n",
       "      <td>0.714</td>\n",
       "      <td>0.9325</td>\n",
       "      <td>positive</td>\n",
       "      <td>[yes, thank, supporting, wonderful, charity, i...</td>\n",
       "    </tr>\n",
       "    <tr>\n",
       "      <th>7</th>\n",
       "      <td>1491891910876749824</td>\n",
       "      <td>@KensingtonRoyal @EarthshotPrize @expo2020duba...</td>\n",
       "      <td>It is brilliant the  winners and finalists ...</td>\n",
       "      <td>0.000</td>\n",
       "      <td>0.727</td>\n",
       "      <td>0.273</td>\n",
       "      <td>0.8402</td>\n",
       "      <td>neutral</td>\n",
       "      <td>[brilliant, winner, finalist, getting, showcas...</td>\n",
       "    </tr>\n",
       "    <tr>\n",
       "      <th>8</th>\n",
       "      <td>1488377369975222274</td>\n",
       "      <td>#DP_World signs agreement with another major t...</td>\n",
       "      <td>#DP_World signs agreement with another major t...</td>\n",
       "      <td>0.000</td>\n",
       "      <td>0.738</td>\n",
       "      <td>0.262</td>\n",
       "      <td>0.4939</td>\n",
       "      <td>neutral</td>\n",
       "      <td>[sign, agreement, another, major, tenant, lond...</td>\n",
       "    </tr>\n",
       "    <tr>\n",
       "      <th>9</th>\n",
       "      <td>1487180213926699013</td>\n",
       "      <td>Today, I visited the #DP_World Pavilion at #ex...</td>\n",
       "      <td>Today, I visited the #DP_World Pavilion at #ex...</td>\n",
       "      <td>0.000</td>\n",
       "      <td>0.903</td>\n",
       "      <td>0.097</td>\n",
       "      <td>0.4767</td>\n",
       "      <td>neutral</td>\n",
       "      <td>[today, visited, pavilion, expo2020dubai, dp, ...</td>\n",
       "    </tr>\n",
       "    <tr>\n",
       "      <th>10</th>\n",
       "      <td>1484731371306512384</td>\n",
       "      <td>The world can only be grasped by action, not b...</td>\n",
       "      <td>The world can only be grasped by action, not b...</td>\n",
       "      <td>0.000</td>\n",
       "      <td>1.000</td>\n",
       "      <td>0.000</td>\n",
       "      <td>0.0000</td>\n",
       "      <td>neutral</td>\n",
       "      <td>[world, grasped, action, contemplation]</td>\n",
       "    </tr>\n",
       "    <tr>\n",
       "      <th>11</th>\n",
       "      <td>1484150349032472576</td>\n",
       "      <td>@UNFCCC @EarthlingEco Save earth 🌎 Save Trees ...</td>\n",
       "      <td>Save earth 🌎 Save Trees 🌲🌲🌲 #Dp_WorlD</td>\n",
       "      <td>0.000</td>\n",
       "      <td>0.385</td>\n",
       "      <td>0.615</td>\n",
       "      <td>0.7506</td>\n",
       "      <td>positive</td>\n",
       "      <td>[save, earth, save, tree]</td>\n",
       "    </tr>\n",
       "    <tr>\n",
       "      <th>12</th>\n",
       "      <td>1482582133814136834</td>\n",
       "      <td>Never limit yourself because of others’ limite...</td>\n",
       "      <td>Never limit yourself because of others’ limite...</td>\n",
       "      <td>0.147</td>\n",
       "      <td>0.853</td>\n",
       "      <td>0.000</td>\n",
       "      <td>-0.4215</td>\n",
       "      <td>neutral</td>\n",
       "      <td>[never, limit, others, limited, imagination, n...</td>\n",
       "    </tr>\n",
       "    <tr>\n",
       "      <th>13</th>\n",
       "      <td>1479080975770726405</td>\n",
       "      <td>#DP_World starts $1 bln port construction in #...</td>\n",
       "      <td>#DP_World starts $1 bln port construction in #...</td>\n",
       "      <td>0.000</td>\n",
       "      <td>1.000</td>\n",
       "      <td>0.000</td>\n",
       "      <td>0.0000</td>\n",
       "      <td>neutral</td>\n",
       "      <td>[start, 1, bln, port, construction, senegal, a...</td>\n",
       "    </tr>\n",
       "    <tr>\n",
       "      <th>14</th>\n",
       "      <td>1470705012376580099</td>\n",
       "      <td>New post: DP World launches post-Brexit custom...</td>\n",
       "      <td>New post: DP World launches post-Brexit custom...</td>\n",
       "      <td>0.000</td>\n",
       "      <td>1.000</td>\n",
       "      <td>0.000</td>\n",
       "      <td>0.0000</td>\n",
       "      <td>neutral</td>\n",
       "      <td>[new, post, dp, world, launch, custom, suite, ...</td>\n",
       "    </tr>\n",
       "    <tr>\n",
       "      <th>15</th>\n",
       "      <td>1452949594741121029</td>\n",
       "      <td>New post: DP World volumes soar  https://t.co/...</td>\n",
       "      <td>New post: DP World volumes soar   #DP_World</td>\n",
       "      <td>0.000</td>\n",
       "      <td>1.000</td>\n",
       "      <td>0.000</td>\n",
       "      <td>0.0000</td>\n",
       "      <td>neutral</td>\n",
       "      <td>[new, post, dp, world, volume, soar]</td>\n",
       "    </tr>\n",
       "    <tr>\n",
       "      <th>16</th>\n",
       "      <td>1450759465230376970</td>\n",
       "      <td>New post: The supply chain made simple  https:...</td>\n",
       "      <td>New post: The supply chain made simple   #DP_W...</td>\n",
       "      <td>0.000</td>\n",
       "      <td>1.000</td>\n",
       "      <td>0.000</td>\n",
       "      <td>0.0000</td>\n",
       "      <td>neutral</td>\n",
       "      <td>[new, post, supply, chain, made, simple]</td>\n",
       "    </tr>\n",
       "    <tr>\n",
       "      <th>17</th>\n",
       "      <td>1448152723845783552</td>\n",
       "      <td>#Dubai-based #DP_World partners with UK’s CDC ...</td>\n",
       "      <td>#Dubai-based #DP_World partners with UK’s CDC ...</td>\n",
       "      <td>0.000</td>\n",
       "      <td>0.928</td>\n",
       "      <td>0.072</td>\n",
       "      <td>0.2732</td>\n",
       "      <td>neutral</td>\n",
       "      <td>[partner, uk, cdc, group, create, investment, ...</td>\n",
       "    </tr>\n",
       "    <tr>\n",
       "      <th>18</th>\n",
       "      <td>1447826961276051458</td>\n",
       "      <td>#DP_World Grow announcement, Somaliland  https...</td>\n",
       "      <td>#DP_World Grow announcement, Somaliland</td>\n",
       "      <td>0.000</td>\n",
       "      <td>1.000</td>\n",
       "      <td>0.000</td>\n",
       "      <td>0.0000</td>\n",
       "      <td>neutral</td>\n",
       "      <td>[grow, announcement, somaliland]</td>\n",
       "    </tr>\n",
       "    <tr>\n",
       "      <th>19</th>\n",
       "      <td>1446744609829314560</td>\n",
       "      <td>#Mawani, #DP_World start works on first phase ...</td>\n",
       "      <td>#Mawani, #DP_World start works on first phase ...</td>\n",
       "      <td>0.000</td>\n",
       "      <td>1.000</td>\n",
       "      <td>0.000</td>\n",
       "      <td>0.0000</td>\n",
       "      <td>neutral</td>\n",
       "      <td>[mawani, start, work, first, phase, overhaulin...</td>\n",
       "    </tr>\n",
       "  </tbody>\n",
       "</table>\n",
       "</div>"
      ],
      "text/plain": [
       "                     id                                              tweet  \\\n",
       "0   1492573501542313990  @arabnews @united4wildlife @EarthshotPrize @Ke...   \n",
       "1   1492537612757872645  Speaking of #DP_World, they are now collaborat...   \n",
       "2   1492537610253836296  EarthShot winners and finalists got to promote...   \n",
       "3   1492492122557145092  @JaniceC28477503 @CamillaTominey Speaking of #...   \n",
       "4   1492490261347373062  @JaniceC28477503 @CamillaTominey EarthShot win...   \n",
       "5   1492316180614467590  @DP_World @JudithNeile @tusk_org @expo2020duba...   \n",
       "6   1492183718102016004  @MayhewCharlie @DP_World @EarthshotPrize @unit...   \n",
       "7   1491891910876749824  @KensingtonRoyal @EarthshotPrize @expo2020duba...   \n",
       "8   1488377369975222274  #DP_World signs agreement with another major t...   \n",
       "9   1487180213926699013  Today, I visited the #DP_World Pavilion at #ex...   \n",
       "10  1484731371306512384  The world can only be grasped by action, not b...   \n",
       "11  1484150349032472576  @UNFCCC @EarthlingEco Save earth 🌎 Save Trees ...   \n",
       "12  1482582133814136834  Never limit yourself because of others’ limite...   \n",
       "13  1479080975770726405  #DP_World starts $1 bln port construction in #...   \n",
       "14  1470705012376580099  New post: DP World launches post-Brexit custom...   \n",
       "15  1452949594741121029  New post: DP World volumes soar  https://t.co/...   \n",
       "16  1450759465230376970  New post: The supply chain made simple  https:...   \n",
       "17  1448152723845783552  #Dubai-based #DP_World partners with UK’s CDC ...   \n",
       "18  1447826961276051458  #DP_World Grow announcement, Somaliland  https...   \n",
       "19  1446744609829314560  #Mawani, #DP_World start works on first phase ...   \n",
       "\n",
       "                                          clean_tweet    neg    neu    pos  \\\n",
       "0          #Expo2020Dubai was wonderful and seeing...  0.092  0.534  0.373   \n",
       "1   Speaking of #DP_World, they are now collaborat...  0.131  0.766  0.102   \n",
       "2   EarthShot winners and finalists got to promote...  0.000  0.749  0.251   \n",
       "3     Speaking of #DP_World, they are now collabor...  0.131  0.766  0.102   \n",
       "4     EarthShot winners and finalists got to promo...  0.000  0.749  0.251   \n",
       "5       Thank you #DP_World 💕. #Tusk is an amazing...  0.000  0.565  0.435   \n",
       "6         Yes thank you #DP_World for supporting t...  0.000  0.286  0.714   \n",
       "7      It is brilliant the  winners and finalists ...  0.000  0.727  0.273   \n",
       "8   #DP_World signs agreement with another major t...  0.000  0.738  0.262   \n",
       "9   Today, I visited the #DP_World Pavilion at #ex...  0.000  0.903  0.097   \n",
       "10  The world can only be grasped by action, not b...  0.000  1.000  0.000   \n",
       "11              Save earth 🌎 Save Trees 🌲🌲🌲 #Dp_WorlD  0.000  0.385  0.615   \n",
       "12  Never limit yourself because of others’ limite...  0.147  0.853  0.000   \n",
       "13  #DP_World starts $1 bln port construction in #...  0.000  1.000  0.000   \n",
       "14  New post: DP World launches post-Brexit custom...  0.000  1.000  0.000   \n",
       "15        New post: DP World volumes soar   #DP_World  0.000  1.000  0.000   \n",
       "16  New post: The supply chain made simple   #DP_W...  0.000  1.000  0.000   \n",
       "17  #Dubai-based #DP_World partners with UK’s CDC ...  0.000  0.928  0.072   \n",
       "18          #DP_World Grow announcement, Somaliland    0.000  1.000  0.000   \n",
       "19  #Mawani, #DP_World start works on first phase ...  0.000  1.000  0.000   \n",
       "\n",
       "    compound  abs_sent                                             tokens  \n",
       "0     0.9355   neutral  [expo2020dubai, wonderful, seeing, princewilli...  \n",
       "1    -0.2023   neutral  [speaking, collaborating, another, princewilli...  \n",
       "2     0.6908   neutral  [earthshot, winner, finalist, got, promote, wo...  \n",
       "3    -0.2023   neutral  [speaking, collaborating, another, princewilli...  \n",
       "4     0.6908   neutral  [earthshot, winner, finalist, got, promote, wo...  \n",
       "5     0.9274   neutral  [thank, tusk, amazing, organisation, glad, joi...  \n",
       "6     0.9325  positive  [yes, thank, supporting, wonderful, charity, i...  \n",
       "7     0.8402   neutral  [brilliant, winner, finalist, getting, showcas...  \n",
       "8     0.4939   neutral  [sign, agreement, another, major, tenant, lond...  \n",
       "9     0.4767   neutral  [today, visited, pavilion, expo2020dubai, dp, ...  \n",
       "10    0.0000   neutral            [world, grasped, action, contemplation]  \n",
       "11    0.7506  positive                          [save, earth, save, tree]  \n",
       "12   -0.4215   neutral  [never, limit, others, limited, imagination, n...  \n",
       "13    0.0000   neutral  [start, 1, bln, port, construction, senegal, a...  \n",
       "14    0.0000   neutral  [new, post, dp, world, launch, custom, suite, ...  \n",
       "15    0.0000   neutral               [new, post, dp, world, volume, soar]  \n",
       "16    0.0000   neutral           [new, post, supply, chain, made, simple]  \n",
       "17    0.2732   neutral  [partner, uk, cdc, group, create, investment, ...  \n",
       "18    0.0000   neutral                   [grow, announcement, somaliland]  \n",
       "19    0.0000   neutral  [mawani, start, work, first, phase, overhaulin...  "
      ]
     },
     "execution_count": 12,
     "metadata": {},
     "output_type": "execute_result"
    }
   ],
   "source": [
    "# Actual tokenization using the custom-made function\n",
    "processed_twitter[\"tokens\"] = processed_twitter[\"clean_tweet\"].apply(lambda sentence: sentence_processing(sentence))\n",
    "processed_twitter.head(20)"
   ]
  },
  {
   "cell_type": "markdown",
   "metadata": {},
   "source": [
    "### Remove short tweets\n",
    "Justification: Longer tweets will be easier to categorize (both sentiment and topic) and will be more likely to be an \"opinion\""
   ]
  },
  {
   "cell_type": "code",
   "execution_count": 13,
   "metadata": {},
   "outputs": [
    {
     "name": "stdout",
     "output_type": "stream",
     "text": [
      "Rows before removing short tweets: 118919\n",
      "Rows after removing short tweets: 92477\n"
     ]
    }
   ],
   "source": [
    "# Number of words column\n",
    "at_least_num_words = 7\n",
    "\n",
    "processed_twitter[\"num_tokens\"] = processed_twitter[\"tokens\"].apply(lambda tokens: len(tokens))\n",
    "print(f\"Rows before removing short tweets: {len(processed_twitter.index)}\")\n",
    "# Remove short tweets\n",
    "processed_twitter.drop(processed_twitter[processed_twitter[\"num_tokens\"] < at_least_num_words].index, inplace=True)\n",
    "print(f\"Rows after removing short tweets: {len(processed_twitter.index)}\")"
   ]
  },
  {
   "cell_type": "markdown",
   "metadata": {},
   "source": [
    "### Remove NaN"
   ]
  },
  {
   "cell_type": "code",
   "execution_count": 14,
   "metadata": {},
   "outputs": [
    {
     "name": "stdout",
     "output_type": "stream",
     "text": [
      "Rows after removing NaN: 92477\n"
     ]
    }
   ],
   "source": [
    "processed_twitter.dropna(how='any',inplace=True)\n",
    "print(f\"Rows after removing NaN: {len(processed_twitter.index)}\")"
   ]
  },
  {
   "cell_type": "markdown",
   "metadata": {},
   "source": [
    "### Optional: Remove certain topics by key tokens\n",
    "If the tokens include the following words, they have to be removed. The words are also processed to make sure that they match with the tokens."
   ]
  },
  {
   "cell_type": "code",
   "execution_count": 15,
   "metadata": {},
   "outputs": [
    {
     "name": "stdout",
     "output_type": "stream",
     "text": [
      "Size before cleanup: 92477\n",
      "Size after cleanup: 87758\n"
     ]
    }
   ],
   "source": [
    "# %%script false --no-raise-error\n",
    "# Linked tokens\n",
    "processed_twitter[\"token_string\"] = processed_twitter[\"tokens\"].apply(lambda token_list: ' '.join(token_list))\n",
    "processed_twitter.head()\n",
    "\n",
    "# # Remove certain topics based on substrings\n",
    "# to_remove = [\n",
    "#     \"Police\", \n",
    "#     'videogame',\n",
    "#     'game',\n",
    "#     # 'cereal',\n",
    "#     'USB',\n",
    "#     'TRADE',\n",
    "#     'BID',\n",
    "#     'fromsoftware',\n",
    "#     'Ukranian',\n",
    "#     'russia',\n",
    "#     'ukraine',\n",
    "#     'offer',\n",
    "#     'hdmi',\n",
    "#     'vga',\n",
    "#     'pearl'\n",
    "# ]\n",
    "\n",
    "to_remove = [\n",
    "    \"#pdx911\", # the bloody portland police notifications\n",
    "    \"PRAYER\"\n",
    "]\n",
    "\n",
    "to_remove = sentence_processing(' '.join(to_remove))\n",
    "\n",
    "print(f\"Size before cleanup: {len(processed_twitter.index)}\")\n",
    "for string in to_remove:\n",
    "    processed_twitter = processed_twitter[~processed_twitter[\"token_string\"].str.contains(string, case=False)]\n",
    "processed_twitter.drop(labels=[\"token_string\"], axis=1, inplace=True)\n",
    "print(f\"Size after cleanup: {len(processed_twitter.index)}\")"
   ]
  },
  {
   "cell_type": "markdown",
   "metadata": {},
   "source": [
    "### Optional: Only #portof\n",
    "For more relevant data, only a subset of the tweets will be used.\n",
    "These tweets must use `#portof...`, in any sort of capitalization\n",
    "\n",
    "However, this results in a ridiculously small dataset, which is far from what we want."
   ]
  },
  {
   "cell_type": "code",
   "execution_count": 16,
   "metadata": {},
   "outputs": [],
   "source": [
    "%%script false --no-raise-error\n",
    "print(f\"Size before cleanup: {len(processed_twitter.index)}\")\n",
    "processed_twitter = processed_twitter[processed_twitter[\"clean_tweet\"].str.contains(\"#portof\", case=False)]\n",
    "print(f\"Size after cleanup: {len(processed_twitter.index)}\")"
   ]
  },
  {
   "cell_type": "code",
   "execution_count": 17,
   "metadata": {},
   "outputs": [
    {
     "data": {
      "text/html": [
       "<div>\n",
       "<style scoped>\n",
       "    .dataframe tbody tr th:only-of-type {\n",
       "        vertical-align: middle;\n",
       "    }\n",
       "\n",
       "    .dataframe tbody tr th {\n",
       "        vertical-align: top;\n",
       "    }\n",
       "\n",
       "    .dataframe thead th {\n",
       "        text-align: right;\n",
       "    }\n",
       "</style>\n",
       "<table border=\"1\" class=\"dataframe\">\n",
       "  <thead>\n",
       "    <tr style=\"text-align: right;\">\n",
       "      <th></th>\n",
       "      <th>id</th>\n",
       "      <th>tweet</th>\n",
       "      <th>clean_tweet</th>\n",
       "      <th>neg</th>\n",
       "      <th>neu</th>\n",
       "      <th>pos</th>\n",
       "      <th>compound</th>\n",
       "      <th>abs_sent</th>\n",
       "      <th>tokens</th>\n",
       "      <th>num_tokens</th>\n",
       "    </tr>\n",
       "  </thead>\n",
       "  <tbody>\n",
       "    <tr>\n",
       "      <th>0</th>\n",
       "      <td>1492573501542313990</td>\n",
       "      <td>@arabnews @united4wildlife @EarthshotPrize @Ke...</td>\n",
       "      <td>#Expo2020Dubai was wonderful and seeing...</td>\n",
       "      <td>0.092</td>\n",
       "      <td>0.534</td>\n",
       "      <td>0.373</td>\n",
       "      <td>0.9355</td>\n",
       "      <td>neutral</td>\n",
       "      <td>[expo2020dubai, wonderful, seeing, princewilli...</td>\n",
       "      <td>21</td>\n",
       "    </tr>\n",
       "    <tr>\n",
       "      <th>1</th>\n",
       "      <td>1492537612757872645</td>\n",
       "      <td>Speaking of #DP_World, they are now collaborat...</td>\n",
       "      <td>Speaking of #DP_World, they are now collaborat...</td>\n",
       "      <td>0.131</td>\n",
       "      <td>0.766</td>\n",
       "      <td>0.102</td>\n",
       "      <td>-0.2023</td>\n",
       "      <td>neutral</td>\n",
       "      <td>[speaking, collaborating, another, princewilli...</td>\n",
       "      <td>12</td>\n",
       "    </tr>\n",
       "    <tr>\n",
       "      <th>2</th>\n",
       "      <td>1492537610253836296</td>\n",
       "      <td>EarthShot winners and finalists got to promote...</td>\n",
       "      <td>EarthShot winners and finalists got to promote...</td>\n",
       "      <td>0.000</td>\n",
       "      <td>0.749</td>\n",
       "      <td>0.251</td>\n",
       "      <td>0.6908</td>\n",
       "      <td>neutral</td>\n",
       "      <td>[earthshot, winner, finalist, got, promote, wo...</td>\n",
       "      <td>10</td>\n",
       "    </tr>\n",
       "    <tr>\n",
       "      <th>3</th>\n",
       "      <td>1492492122557145092</td>\n",
       "      <td>@JaniceC28477503 @CamillaTominey Speaking of #...</td>\n",
       "      <td>Speaking of #DP_World, they are now collabor...</td>\n",
       "      <td>0.131</td>\n",
       "      <td>0.766</td>\n",
       "      <td>0.102</td>\n",
       "      <td>-0.2023</td>\n",
       "      <td>neutral</td>\n",
       "      <td>[speaking, collaborating, another, princewilli...</td>\n",
       "      <td>12</td>\n",
       "    </tr>\n",
       "    <tr>\n",
       "      <th>4</th>\n",
       "      <td>1492490261347373062</td>\n",
       "      <td>@JaniceC28477503 @CamillaTominey EarthShot win...</td>\n",
       "      <td>EarthShot winners and finalists got to promo...</td>\n",
       "      <td>0.000</td>\n",
       "      <td>0.749</td>\n",
       "      <td>0.251</td>\n",
       "      <td>0.6908</td>\n",
       "      <td>neutral</td>\n",
       "      <td>[earthshot, winner, finalist, got, promote, wo...</td>\n",
       "      <td>10</td>\n",
       "    </tr>\n",
       "  </tbody>\n",
       "</table>\n",
       "</div>"
      ],
      "text/plain": [
       "                    id                                              tweet  \\\n",
       "0  1492573501542313990  @arabnews @united4wildlife @EarthshotPrize @Ke...   \n",
       "1  1492537612757872645  Speaking of #DP_World, they are now collaborat...   \n",
       "2  1492537610253836296  EarthShot winners and finalists got to promote...   \n",
       "3  1492492122557145092  @JaniceC28477503 @CamillaTominey Speaking of #...   \n",
       "4  1492490261347373062  @JaniceC28477503 @CamillaTominey EarthShot win...   \n",
       "\n",
       "                                         clean_tweet    neg    neu    pos  \\\n",
       "0         #Expo2020Dubai was wonderful and seeing...  0.092  0.534  0.373   \n",
       "1  Speaking of #DP_World, they are now collaborat...  0.131  0.766  0.102   \n",
       "2  EarthShot winners and finalists got to promote...  0.000  0.749  0.251   \n",
       "3    Speaking of #DP_World, they are now collabor...  0.131  0.766  0.102   \n",
       "4    EarthShot winners and finalists got to promo...  0.000  0.749  0.251   \n",
       "\n",
       "   compound abs_sent                                             tokens  \\\n",
       "0    0.9355  neutral  [expo2020dubai, wonderful, seeing, princewilli...   \n",
       "1   -0.2023  neutral  [speaking, collaborating, another, princewilli...   \n",
       "2    0.6908  neutral  [earthshot, winner, finalist, got, promote, wo...   \n",
       "3   -0.2023  neutral  [speaking, collaborating, another, princewilli...   \n",
       "4    0.6908  neutral  [earthshot, winner, finalist, got, promote, wo...   \n",
       "\n",
       "   num_tokens  \n",
       "0          21  \n",
       "1          12  \n",
       "2          10  \n",
       "3          12  \n",
       "4          10  "
      ]
     },
     "execution_count": 17,
     "metadata": {},
     "output_type": "execute_result"
    }
   ],
   "source": [
    "processed_twitter.head()"
   ]
  },
  {
   "cell_type": "markdown",
   "metadata": {},
   "source": [
    "## Topic categorization\n",
    "First, the tokens need to be processed into a bag of words.\n",
    "It is sparse (for storage) and `sklearn` does wonders for it (although it needs the tokens as a single string)."
   ]
  },
  {
   "cell_type": "code",
   "execution_count": 60,
   "metadata": {},
   "outputs": [],
   "source": [
    "from sklearn.feature_extraction.text import CountVectorizer\n",
    "from corextopic import corextopic as ct\n",
    "from corextopic import vis_topic as vt\n",
    "\n",
    "# Train the LDA\n",
    "def topic_train(dataframe_in, num_topics=5, anchors = list(), summary_name = 'topic_class_summary', anchor_strength = 10):\n",
    "    dataframe = dataframe_in.copy()\n",
    "    # Obtain bag-of-words sparse matrix\n",
    "    corpus = [' '.join(tokens) for tokens in dataframe[\"tokens\"]] # tokens in each message\n",
    "    vectorizer = CountVectorizer(analyzer='word', stop_words='english') # object to create the bag of words\n",
    "    word_bag = vectorizer.fit_transform(corpus) # this is a sparse matrix!\n",
    "    word_features = vectorizer.get_feature_names_out() # i.e. the actual word names\n",
    "    ids = dataframe[\"id\"].tolist() # list of all twitter ids; i.e. labelling of the rows of the matrix\n",
    "    # Train the model\n",
    "    topic_model = ct.Corex(n_hidden=num_topics)  # Define the number of latent (hidden) topics to use.\n",
    "    if anchors:\n",
    "        print(\"Anchors accepted. Hopefully\")\n",
    "        topic_model.fit(\n",
    "            word_bag, \n",
    "            anchors=anchors,\n",
    "            anchor_strength=anchor_strength, # i.e. how many more times the anchor weighs compared to normal words\n",
    "            words=word_features, \n",
    "            docs=ids\n",
    "        )\n",
    "    else:\n",
    "        print(\"No anchors? Sure\")\n",
    "        topic_model.fit(\n",
    "            word_bag, \n",
    "            words=word_features, \n",
    "            docs=ids\n",
    "        )\n",
    "    # Export summary data\n",
    "    vt.vis_rep(topic_model, column_label=word_features, prefix=summary_name)\n",
    "    return topic_model\n",
    "\n",
    "# Get the top words from a model\n",
    "def topic_top_words(topic_model):\n",
    "    # Get the terms for the topics\n",
    "    topics = topic_model.get_topics()\n",
    "    topic_list = list()\n",
    "    for topic_n,topic in enumerate(topics):\n",
    "        # w: word, mi: mutual information, s: sign\n",
    "        topic = [(w,mi,s) if s > 0 else ('~'+w,mi,s) for w,mi,s in topic]\n",
    "        # Unpack the info about the topic\n",
    "        words,mis,signs = zip(*topic)    \n",
    "        # Print topic\n",
    "        topic_str = str(topic_n+1)+': '+', '.join(words)\n",
    "        topic_list.append(topic_str)\n",
    "    long_string = \"\\n\".join(topic_list)\n",
    "    print(long_string)\n",
    "    return long_string\n",
    "\n",
    "# Plot the correlation score of each topic\n",
    "import matplotlib.pyplot as plt\n",
    "def topic_correlation_plot(topic_model):\n",
    "    plt.bar(range(1, topic_model.tcs.shape[0]+1), topic_model.tcs, color='#4e79a7')\n",
    "    plt.xlabel('Topic')\n",
    "    plt.grid('both')\n",
    "    plt.ylabel('Total Correlation (nats)')\n",
    "    plt.xticks(np.arange(1, topic_model.tcs.shape[0]+1, step=1))\n",
    "    plt.show()\n",
    "\n",
    "\n",
    "from typing import List\n",
    "import numpy as np\n",
    "\n",
    "def select_topics(dataframe_in, topic_model_array, selected_topics, drop_column=True, remove = False):\n",
    "    df = dataframe_in.copy()\n",
    "    df.reset_index(inplace=True, drop=True)\n",
    "    indices = list()\n",
    "    for topic in selected_topics:\n",
    "        index_array = np.where(topic_model_array[:, topic] == True)\n",
    "        indices.append(index_array[0].tolist())\n",
    "    indices = [item for sublist in indices for item in sublist]\n",
    "    indices = np.sort(np.array(indices))\n",
    "    indices = indices.tolist()\n",
    "    if remove:\n",
    "        df = df.loc[~df.index.isin(indices)]\n",
    "    else:\n",
    "        df = df.loc[df.index.isin(indices)]\n",
    "    if drop_column:\n",
    "        df.drop(labels=[\"topic\"], axis=1, inplace=True)\n",
    "    df.reset_index(inplace=True, drop=True)\n",
    "    return df\n",
    "\n",
    "\n",
    "# Process the anchors exactly in the same way as the tweets themselves for creating the tokens\n",
    "process_anchors = lambda anchors: [sentence_processing(' '.join(set)) for set in anchors]\n",
    "\n",
    "# Get topic list\n",
    "get_topic_list = lambda topic_model: pd.Series(topic_model.labels.tolist())\n"
   ]
  },
  {
   "cell_type": "markdown",
   "metadata": {},
   "source": [
    "#### First LDA: Differenciate useful and useless tweets\n",
    "Use an LDA with several topics to manually sift uninteresting results.\n",
    "Save the results into a file so that it is not over-written every time."
   ]
  },
  {
   "cell_type": "code",
   "execution_count": 19,
   "metadata": {},
   "outputs": [
    {
     "name": "stderr",
     "output_type": "stream",
     "text": [
      "UsageError: Line magic function `%%script` not found.\n"
     ]
    }
   ],
   "source": [
    "# Create the list for comparison for several topics\n",
    "%%script false --no-raise-error\n",
    "keywords_per_topics = list()\n",
    "for num in range(2, 11):\n",
    "    topic_model = topic_train(processed_twitter, num_topics=num, summary_name = 'temp_classifier')\n",
    "    keywords_per_topics.append(topic_top_words(topic_model))\n",
    "np.savetxt(\"first_topic_keywords.csv\", \n",
    "           keywords_per_topics,\n",
    "           delimiter =\", \", \n",
    "           fmt ='% s')"
   ]
  },
  {
   "cell_type": "code",
   "execution_count": 20,
   "metadata": {},
   "outputs": [
    {
     "name": "stdout",
     "output_type": "stream",
     "text": [
      "No anchors? Sure\n",
      "Print topics in text file\n"
     ]
    }
   ],
   "source": [
    "# Train the LDA \n",
    "useful_topic_model = topic_train(processed_twitter, num_topics=10, summary_name = 'manual_split')"
   ]
  },
  {
   "cell_type": "code",
   "execution_count": 21,
   "metadata": {},
   "outputs": [
    {
     "name": "stdout",
     "output_type": "stream",
     "text": [
      "They should be the same\n",
      "(87758, 10)\n",
      "87758\n"
     ]
    }
   ],
   "source": [
    "print(\"They should be the same\")\n",
    "print(useful_topic_model.labels.shape)\n",
    "print(len(processed_twitter.index))"
   ]
  },
  {
   "cell_type": "code",
   "execution_count": 22,
   "metadata": {},
   "outputs": [],
   "source": [
    "# Create the copy with the topics\n",
    "useful_twitter = processed_twitter.copy()\n",
    "useful_twitter.reset_index(inplace=True, drop=True)\n",
    "useful_twitter['topic']=get_topic_list(useful_topic_model)"
   ]
  },
  {
   "cell_type": "code",
   "execution_count": 23,
   "metadata": {},
   "outputs": [
    {
     "data": {
      "text/plain": [
       "0"
      ]
     },
     "execution_count": 23,
     "metadata": {},
     "output_type": "execute_result"
    }
   ],
   "source": [
    "# Check for NaN values\n",
    "useful_twitter['topic'].isna().sum() "
   ]
  },
  {
   "cell_type": "code",
   "execution_count": 24,
   "metadata": {},
   "outputs": [
    {
     "name": "stdout",
     "output_type": "stream",
     "text": [
      "1: russian, ukraine, russia, pearl, war, mariupol, ukrainian, putin, city, attack\n",
      "2: mt, utc, detected, wind, threatintelligence, 8022, attempt, del, cbh, temp\n",
      "3: usb, charging, charger, listing, laptop, cable, hdmi, adapter, outlet, protector\n",
      "4: mar, 2022, high, march, basketball, tide, predicted, apply, low, pressure\n",
      "5: service, pick, terminal, scheduled, depart, container, penn, shipping, cargo, logistics\n",
      "6: like, think, make, know, really, thing, want, people, need, got\n",
      "7: game, pc, na, switch, gon, console, elden, play, ring, remake\n",
      "8: port, ~harbor, ~harbour, ~sydney, harcourt, ~safe, ~bridge, authority, ~liyue, ~crash\n",
      "9: ~beautiful, ~wine, ~day, ~beach, ~lovely, ~walk, ~enjoy, ~birthday, ~morning, ~delicious\n",
      "10: state, amp, member, law, nigeria, family, river, officer, lagos, united\n"
     ]
    },
    {
     "data": {
      "text/plain": [
       "'1: russian, ukraine, russia, pearl, war, mariupol, ukrainian, putin, city, attack\\n2: mt, utc, detected, wind, threatintelligence, 8022, attempt, del, cbh, temp\\n3: usb, charging, charger, listing, laptop, cable, hdmi, adapter, outlet, protector\\n4: mar, 2022, high, march, basketball, tide, predicted, apply, low, pressure\\n5: service, pick, terminal, scheduled, depart, container, penn, shipping, cargo, logistics\\n6: like, think, make, know, really, thing, want, people, need, got\\n7: game, pc, na, switch, gon, console, elden, play, ring, remake\\n8: port, ~harbor, ~harbour, ~sydney, harcourt, ~safe, ~bridge, authority, ~liyue, ~crash\\n9: ~beautiful, ~wine, ~day, ~beach, ~lovely, ~walk, ~enjoy, ~birthday, ~morning, ~delicious\\n10: state, amp, member, law, nigeria, family, river, officer, lagos, united'"
      ]
     },
     "execution_count": 24,
     "metadata": {},
     "output_type": "execute_result"
    }
   ],
   "source": [
    "# Print the top words\n",
    "topic_top_words(useful_topic_model)"
   ]
  },
  {
   "cell_type": "code",
   "execution_count": 25,
   "metadata": {},
   "outputs": [
    {
     "name": "stderr",
     "output_type": "stream",
     "text": [
      "/var/folders/j_/fksmwvvx4_3168_scxg6_7hh0000gn/T/ipykernel_1091/3262725002.py:61: UserWarning: Matplotlib is currently using agg, which is a non-GUI backend, so cannot show the figure.\n",
      "  plt.show()\n"
     ]
    }
   ],
   "source": [
    "# See the topic correlation\n",
    "topic_correlation_plot(useful_topic_model)"
   ]
  },
  {
   "cell_type": "code",
   "execution_count": 26,
   "metadata": {},
   "outputs": [
    {
     "data": {
      "text/html": [
       "<div>\n",
       "<style scoped>\n",
       "    .dataframe tbody tr th:only-of-type {\n",
       "        vertical-align: middle;\n",
       "    }\n",
       "\n",
       "    .dataframe tbody tr th {\n",
       "        vertical-align: top;\n",
       "    }\n",
       "\n",
       "    .dataframe thead th {\n",
       "        text-align: right;\n",
       "    }\n",
       "</style>\n",
       "<table border=\"1\" class=\"dataframe\">\n",
       "  <thead>\n",
       "    <tr style=\"text-align: right;\">\n",
       "      <th></th>\n",
       "      <th>id</th>\n",
       "      <th>tweet</th>\n",
       "      <th>clean_tweet</th>\n",
       "      <th>neg</th>\n",
       "      <th>neu</th>\n",
       "      <th>pos</th>\n",
       "      <th>compound</th>\n",
       "      <th>abs_sent</th>\n",
       "      <th>tokens</th>\n",
       "      <th>num_tokens</th>\n",
       "      <th>topic</th>\n",
       "    </tr>\n",
       "  </thead>\n",
       "  <tbody>\n",
       "    <tr>\n",
       "      <th>0</th>\n",
       "      <td>1492316180614467590</td>\n",
       "      <td>@DP_World @JudithNeile @tusk_org @expo2020duba...</td>\n",
       "      <td>Thank you #DP_World 💕. #Tusk is an amazing...</td>\n",
       "      <td>0.000</td>\n",
       "      <td>0.565</td>\n",
       "      <td>0.435</td>\n",
       "      <td>0.9274</td>\n",
       "      <td>neutral</td>\n",
       "      <td>[thank, tusk, amazing, organisation, glad, joi...</td>\n",
       "      <td>11</td>\n",
       "      <td>[False, False, False, False, False, False, Fal...</td>\n",
       "    </tr>\n",
       "    <tr>\n",
       "      <th>1</th>\n",
       "      <td>1497632785846132748</td>\n",
       "      <td>AIDAcosma makes first call to Port of Hamburg ...</td>\n",
       "      <td>AIDAcosma makes first call to Port of Hamburg ...</td>\n",
       "      <td>0.000</td>\n",
       "      <td>1.000</td>\n",
       "      <td>0.000</td>\n",
       "      <td>0.0000</td>\n",
       "      <td>neutral</td>\n",
       "      <td>[aidacosma, make, first, call, port, hamburg, ...</td>\n",
       "      <td>13</td>\n",
       "      <td>[False, False, False, False, True, False, Fals...</td>\n",
       "    </tr>\n",
       "    <tr>\n",
       "      <th>2</th>\n",
       "      <td>907938387923009537</td>\n",
       "      <td>A great day to enjoy the river and the industr...</td>\n",
       "      <td>A great day to enjoy the river and the industr...</td>\n",
       "      <td>0.000</td>\n",
       "      <td>0.687</td>\n",
       "      <td>0.313</td>\n",
       "      <td>0.8074</td>\n",
       "      <td>neutral</td>\n",
       "      <td>[great, day, enjoy, river, industry, estuary, ...</td>\n",
       "      <td>11</td>\n",
       "      <td>[False, False, False, False, False, False, Fal...</td>\n",
       "    </tr>\n",
       "    <tr>\n",
       "      <th>3</th>\n",
       "      <td>1487441728361713671</td>\n",
       "      <td>From. #PANYNJ Wva snowed out 0 entrance no way...</td>\n",
       "      <td>From. #PANYNJ Wva snowed out 0 entrance no way...</td>\n",
       "      <td>0.289</td>\n",
       "      <td>0.711</td>\n",
       "      <td>0.000</td>\n",
       "      <td>-0.6908</td>\n",
       "      <td>neutral</td>\n",
       "      <td>[panynj, wva, snowed, 0, entrance, way, pa, mu...</td>\n",
       "      <td>11</td>\n",
       "      <td>[False, False, False, False, False, False, Fal...</td>\n",
       "    </tr>\n",
       "    <tr>\n",
       "      <th>4</th>\n",
       "      <td>1495872695858257920</td>\n",
       "      <td>🥳 Good news for ship and ocean lovers, young a...</td>\n",
       "      <td>🥳 Good news for ship and ocean lovers, young a...</td>\n",
       "      <td>0.000</td>\n",
       "      <td>0.751</td>\n",
       "      <td>0.249</td>\n",
       "      <td>0.8061</td>\n",
       "      <td>neutral</td>\n",
       "      <td>[good, news, ship, ocean, lover, young, old, a...</td>\n",
       "      <td>18</td>\n",
       "      <td>[False, False, False, False, False, True, Fals...</td>\n",
       "    </tr>\n",
       "  </tbody>\n",
       "</table>\n",
       "</div>"
      ],
      "text/plain": [
       "                    id                                              tweet  \\\n",
       "0  1492316180614467590  @DP_World @JudithNeile @tusk_org @expo2020duba...   \n",
       "1  1497632785846132748  AIDAcosma makes first call to Port of Hamburg ...   \n",
       "2   907938387923009537  A great day to enjoy the river and the industr...   \n",
       "3  1487441728361713671  From. #PANYNJ Wva snowed out 0 entrance no way...   \n",
       "4  1495872695858257920  🥳 Good news for ship and ocean lovers, young a...   \n",
       "\n",
       "                                         clean_tweet    neg    neu    pos  \\\n",
       "0      Thank you #DP_World 💕. #Tusk is an amazing...  0.000  0.565  0.435   \n",
       "1  AIDAcosma makes first call to Port of Hamburg ...  0.000  1.000  0.000   \n",
       "2  A great day to enjoy the river and the industr...  0.000  0.687  0.313   \n",
       "3  From. #PANYNJ Wva snowed out 0 entrance no way...  0.289  0.711  0.000   \n",
       "4  🥳 Good news for ship and ocean lovers, young a...  0.000  0.751  0.249   \n",
       "\n",
       "   compound abs_sent                                             tokens  \\\n",
       "0    0.9274  neutral  [thank, tusk, amazing, organisation, glad, joi...   \n",
       "1    0.0000  neutral  [aidacosma, make, first, call, port, hamburg, ...   \n",
       "2    0.8074  neutral  [great, day, enjoy, river, industry, estuary, ...   \n",
       "3   -0.6908  neutral  [panynj, wva, snowed, 0, entrance, way, pa, mu...   \n",
       "4    0.8061  neutral  [good, news, ship, ocean, lover, young, old, a...   \n",
       "\n",
       "   num_tokens                                              topic  \n",
       "0          11  [False, False, False, False, False, False, Fal...  \n",
       "1          13  [False, False, False, False, True, False, Fals...  \n",
       "2          11  [False, False, False, False, False, False, Fal...  \n",
       "3          11  [False, False, False, False, False, False, Fal...  \n",
       "4          18  [False, False, False, False, False, True, Fals...  "
      ]
     },
     "execution_count": 26,
     "metadata": {},
     "output_type": "execute_result"
    }
   ],
   "source": [
    "# Aaand drop the useless topics\n",
    "useful_twitter_red = select_topics(useful_twitter, useful_topic_model.labels, [0, 1, 2, 3, 6, 9], remove=True, drop_column=False)\n",
    "useful_twitter_red.head(5)"
   ]
  },
  {
   "cell_type": "code",
   "execution_count": 38,
   "metadata": {},
   "outputs": [],
   "source": [
    "# Save the file so that it stays consistent\n",
    "%%script false --no-raise-error\n",
    "useful_twitter_red.to_csv('manual_topics.csv', index=False)"
   ]
  },
  {
   "cell_type": "markdown",
   "metadata": {},
   "source": [
    "### Second LDA: Topic classification"
   ]
  },
  {
   "cell_type": "code",
   "execution_count": 40,
   "metadata": {},
   "outputs": [
    {
     "name": "stdout",
     "output_type": "stream",
     "text": [
      "Size final dataset: 6188\n"
     ]
    }
   ],
   "source": [
    "# Load the stored data\n",
    "import pandas as pd\n",
    "useful_twitter = pd.read_csv('manual_topics.csv')\n",
    "print(f\"Size final dataset: {len(useful_twitter.index)}\")"
   ]
  },
  {
   "cell_type": "code",
   "execution_count": 29,
   "metadata": {},
   "outputs": [
    {
     "name": "stdout",
     "output_type": "stream",
     "text": [
      "[['economy', 'profit', 'international', 'infrastructure', 'business', 'company', 'relation', 'revenue', 'import', 'export'], ['green', 'climate', 'emission', 'co2', 'sustainable', 'renewable', 'windmill', 'solar', 'hydrogen', 'battery', 'earth', 'environment', 'nature', 'wildlife', 'tree', 'circularity', 'climate', 'change'], ['city', 'work', 'job', 'labour', 'participation', 'livability', 'housing', 'commute', 'education', 'training', 'school', 'environment', 'tourist']]\n"
     ]
    }
   ],
   "source": [
    "# Anchor words\n",
    "topic_anchors =[\n",
    "    ['eConomy', 'PROFIT', 'internationals', 'infrastructure', 'business', 'company', 'relations', 'revenue','import', 'export'], # economy\n",
    "    ['green', 'climate', 'emissions','CO2', 'sustainable', 'renewable', 'windmill', 'solar', 'hydrogen', 'battery', 'earth', 'environment', 'nature', 'wildlife', 'trees', 'circularity', 'climate change'], #sustainability\n",
    "    ['city', 'work', 'jobs', 'labour', 'participation', 'livability', 'housing', 'commute', 'education', 'training', 'school', 'environment', 'tourist'] #people\n",
    "]\n",
    "topic_anchors = process_anchors(topic_anchors) # do the processing so it matches the actual tokens\n",
    "print(topic_anchors)"
   ]
  },
  {
   "cell_type": "code",
   "execution_count": 30,
   "metadata": {},
   "outputs": [
    {
     "name": "stdout",
     "output_type": "stream",
     "text": [
      "Anchors accepted. Hopefully\n",
      "WARNING: Anchor word not in word column labels provided to CorEx: revenue\n",
      "WARNING: Anchor word not in word column labels provided to CorEx: co2\n",
      "WARNING: Anchor word not in word column labels provided to CorEx: hydrogen\n",
      "WARNING: Anchor word not in word column labels provided to CorEx: wildlife\n",
      "WARNING: Anchor word not in word column labels provided to CorEx: circularity\n",
      "WARNING: Anchor word not in word column labels provided to CorEx: participation\n",
      "WARNING: Anchor word not in word column labels provided to CorEx: livability\n",
      "Print topics in text file\n",
      "1: company, business, international, port, ~harbour, charles, ~harbor, ~sydney, gh, like\n",
      "2: change, nature, green, tree, earth, environment, ~mystery, changed, circular, au\n",
      "3: city, work, school, job, environment, training, housing, labour, education, silent\n",
      "Anchors accepted. Hopefully\n",
      "WARNING: Anchor word not in word column labels provided to CorEx: revenue\n",
      "WARNING: Anchor word not in word column labels provided to CorEx: co2\n",
      "WARNING: Anchor word not in word column labels provided to CorEx: hydrogen\n",
      "WARNING: Anchor word not in word column labels provided to CorEx: wildlife\n",
      "WARNING: Anchor word not in word column labels provided to CorEx: circularity\n",
      "WARNING: Anchor word not in word column labels provided to CorEx: participation\n",
      "WARNING: Anchor word not in word column labels provided to CorEx: livability\n",
      "Print topics in text file\n",
      "1: company, business, international, smashwords, mystery, suspense, safe, free, today, economy\n",
      "2: change, green, tree, newport, yacht, stolen, stealing, beach, crash, harbor\n",
      "3: city, work, school, job, tourist, environment, housing, training, labour, commute\n",
      "4: cruise, ~taylor, harbour, sydney, ~wine, ~delicious, vividsydney, vivid, ~na, ~hungry\n",
      "Anchors accepted. Hopefully\n",
      "WARNING: Anchor word not in word column labels provided to CorEx: revenue\n",
      "WARNING: Anchor word not in word column labels provided to CorEx: co2\n",
      "WARNING: Anchor word not in word column labels provided to CorEx: hydrogen\n",
      "WARNING: Anchor word not in word column labels provided to CorEx: wildlife\n",
      "WARNING: Anchor word not in word column labels provided to CorEx: circularity\n",
      "WARNING: Anchor word not in word column labels provided to CorEx: participation\n",
      "WARNING: Anchor word not in word column labels provided to CorEx: livability\n",
      "Print topics in text file\n",
      "1: company, business, international, leeds, owner, vegetable, peakyblinders, sunlight, supermarket, practice\n",
      "2: change, nature, green, environment, spray, 100, richmond, overnight, renewable, battery\n",
      "3: city, work, school, job, tourist, environment, housing, training, labour, education\n",
      "4: harbor, cruise, newport, ~gh, ~think, ~charles, ~david, ~maymayentrata, beach, ~amakabogera\n",
      "5: free, mystery, smashwords, suspense, vividsydney, vivid, hungry, safe, doordash, 30\n",
      "Anchors accepted. Hopefully\n",
      "WARNING: Anchor word not in word column labels provided to CorEx: revenue\n",
      "WARNING: Anchor word not in word column labels provided to CorEx: co2\n",
      "WARNING: Anchor word not in word column labels provided to CorEx: hydrogen\n",
      "WARNING: Anchor word not in word column labels provided to CorEx: wildlife\n",
      "WARNING: Anchor word not in word column labels provided to CorEx: circularity\n",
      "WARNING: Anchor word not in word column labels provided to CorEx: participation\n",
      "WARNING: Anchor word not in word column labels provided to CorEx: livability\n",
      "Print topics in text file\n",
      "1: company, business, international, newport, stealing, crashing, yacht, ship, economy, accused\n",
      "2: change, nature, green, tree, earth, environment, crash, 38, vandal, birmingham\n",
      "3: city, work, school, job, tourist, environment, housing, training, education, labour\n",
      "4: harbour, ~port, sydney, ~wine, bridge, vividsydney, vivid, ~taylor, morning, south\n",
      "5: park, ferry, liverpool, filming, ~beach, filmed, le, ~birthday, based, vividsydneydinner\n",
      "6: free, mystery, smashwords, suspense, delicious, safe, hungry, 30, doordash, food\n",
      "Anchors accepted. Hopefully\n",
      "WARNING: Anchor word not in word column labels provided to CorEx: revenue\n",
      "WARNING: Anchor word not in word column labels provided to CorEx: co2\n",
      "WARNING: Anchor word not in word column labels provided to CorEx: hydrogen\n",
      "WARNING: Anchor word not in word column labels provided to CorEx: wildlife\n",
      "WARNING: Anchor word not in word column labels provided to CorEx: circularity\n",
      "WARNING: Anchor word not in word column labels provided to CorEx: participation\n",
      "WARNING: Anchor word not in word column labels provided to CorEx: livability\n",
      "Print topics in text file\n",
      "1: company, business, international, economy, hamilton, fresh, supermarket, chaos, backlog, richmond\n",
      "2: nature, green, tree, earth, environment, solo, violent, birmingham, confirmed, revealed\n",
      "3: city, work, school, job, tourist, environment, training, housing, labour, education\n",
      "4: mystery, gh, smashwords, suspense, charles, safe, free, character, sonny, carly\n",
      "5: harbour, ~port, sydney, vividsydney, vivid, cruise, ~wine, bridge, ~drink, david\n",
      "6: newport, yacht, crashing, beach, huntington, stealing, boat, video, stolen, steal\n",
      "7: hungry, cheese, doordash, 30, delicious, food, ~harbor, game, tweet, chicken\n",
      "Anchors accepted. Hopefully\n",
      "WARNING: Anchor word not in word column labels provided to CorEx: revenue\n",
      "WARNING: Anchor word not in word column labels provided to CorEx: co2\n",
      "WARNING: Anchor word not in word column labels provided to CorEx: hydrogen\n",
      "WARNING: Anchor word not in word column labels provided to CorEx: wildlife\n",
      "WARNING: Anchor word not in word column labels provided to CorEx: circularity\n",
      "WARNING: Anchor word not in word column labels provided to CorEx: participation\n",
      "WARNING: Anchor word not in word column labels provided to CorEx: livability\n",
      "Print topics in text file\n",
      "1: company, business, international, economy, filmed, confirmed, revealed, bradford, peakyblinders, filming\n",
      "2: change, nature, green, tree, doordash, 30, hungry, environment, delicious, food\n",
      "3: city, work, school, job, tourist, environment, training, housing, man, stealing\n",
      "4: gh, charles, sonny, carly, cam, esme, thriller, nina, ball, holiday\n",
      "5: harbour, ~harbor, morning, ~wine, bridge, ~newport, david, day, ~yacht, ~taylor\n",
      "6: like, know, game, really, think, ~sydney, got, people, want, time\n",
      "7: maymayentrata, amakabogera, york, fish, hotel, new, luxury, market, ~happy, authority\n",
      "8: mystery, smashwords, suspense, safe, na, free, gon, today, quay, character\n",
      "Anchors accepted. Hopefully\n",
      "WARNING: Anchor word not in word column labels provided to CorEx: revenue\n",
      "WARNING: Anchor word not in word column labels provided to CorEx: co2\n",
      "WARNING: Anchor word not in word column labels provided to CorEx: hydrogen\n",
      "WARNING: Anchor word not in word column labels provided to CorEx: wildlife\n",
      "WARNING: Anchor word not in word column labels provided to CorEx: circularity\n",
      "WARNING: Anchor word not in word column labels provided to CorEx: participation\n",
      "WARNING: Anchor word not in word column labels provided to CorEx: livability\n",
      "Print topics in text file\n",
      "1: company, business, international, vivid, vividsydney, vividsydney2022, 2022, crash, cruise, cozy\n",
      "2: change, green, tree, earth, doordash, hungry, 30, delicious, onion, food\n",
      "3: city, work, school, job, tourist, environment, housing, training, education, labour\n",
      "4: na, gon, york, new, allen, lily, violent, wan, west, gras\n",
      "5: like, really, think, got, feel, ~newport, people, know, lol, friend\n",
      "6: gh, charles, liyue, sonny, stealing, carly, joss, stolen, need, ask\n",
      "7: mystery, smashwords, suspense, safe, free, today, tasting, vegetable, unexpected, product\n",
      "8: harbour, ~port, sydney, ~harbor, bridge, david, ~wine, walk, morning, darling\n",
      "9: garden, height, sunlight, overnight, hamilton, spray, parent, including, newfoundland, jet\n",
      "Anchors accepted. Hopefully\n",
      "WARNING: Anchor word not in word column labels provided to CorEx: revenue\n",
      "WARNING: Anchor word not in word column labels provided to CorEx: co2\n",
      "WARNING: Anchor word not in word column labels provided to CorEx: hydrogen\n",
      "WARNING: Anchor word not in word column labels provided to CorEx: wildlife\n",
      "WARNING: Anchor word not in word column labels provided to CorEx: circularity\n",
      "WARNING: Anchor word not in word column labels provided to CorEx: participation\n",
      "WARNING: Anchor word not in word column labels provided to CorEx: livability\n",
      "Print topics in text file\n",
      "1: company, business, international, economy, 100, supermarket, annual, woo, survival, woman\n",
      "2: nature, green, tree, earth, doordash, hungry, delicious, 30, environment, food\n",
      "3: city, work, school, job, tourist, environment, training, housing, labour, town\n",
      "4: port, wine, cruise, vividsydney, vivid, cheese, 2022, dinner, vividsydney2022, tawny\n",
      "5: newport, yacht, beach, huntington, boat, stolen, stealing, steal, crashing, chase\n",
      "6: harbour, ~harbor, sydney, bridge, david, view, cornwall, darling, opera, quay\n",
      "7: year, access, make, wo, ago, filming, shine, heart, hospital, sea\n",
      "8: like, think, gh, really, na, charles, maymayentrata, know, people, amakabogera\n",
      "9: village, near, island, boston, travel, lake, seal, cape, development, ocean\n",
      "10: mystery, smashwords, suspense, safe, today, free, spray, series, twist, gull\n"
     ]
    }
   ],
   "source": [
    "# Create the list for comparison for several topics\n",
    "%%script false --no-raise-error\n",
    "keywords_per_topics = list()\n",
    "for num in range(3, 11):\n",
    "    topic_model = topic_train(useful_twitter, num_topics=num, anchors=topic_anchors, summary_name = 'topic_classifier', anchor_strength=5)\n",
    "    keywords_per_topics.append(topic_top_words(topic_model))\n",
    "np.savetxt(\"second_topic_keywords.csv\", \n",
    "           keywords_per_topics,\n",
    "           delimiter =\", \", \n",
    "           fmt ='% s')"
   ]
  },
  {
   "cell_type": "code",
   "execution_count": 31,
   "metadata": {},
   "outputs": [
    {
     "name": "stdout",
     "output_type": "stream",
     "text": [
      "Anchors accepted. Hopefully\n",
      "WARNING: Anchor word not in word column labels provided to CorEx: revenue\n",
      "WARNING: Anchor word not in word column labels provided to CorEx: co2\n",
      "WARNING: Anchor word not in word column labels provided to CorEx: hydrogen\n",
      "WARNING: Anchor word not in word column labels provided to CorEx: wildlife\n",
      "WARNING: Anchor word not in word column labels provided to CorEx: circularity\n",
      "WARNING: Anchor word not in word column labels provided to CorEx: participation\n",
      "WARNING: Anchor word not in word column labels provided to CorEx: livability\n",
      "Print topics in text file\n"
     ]
    }
   ],
   "source": [
    "topic_model = topic_train(useful_twitter, num_topics=5, anchors=topic_anchors, summary_name = 'topic_classifier', anchor_strength=10)"
   ]
  },
  {
   "cell_type": "markdown",
   "metadata": {},
   "source": [
    "For determining the number of groups, the TC is plotted. In general, you choose a number of topics once the TC plateaus."
   ]
  },
  {
   "cell_type": "code",
   "execution_count": 44,
   "metadata": {},
   "outputs": [
    {
     "data": {
      "image/png": "[encoded data removed]",
      "text/plain": [
       "<Figure size 720x360 with 1 Axes>"
      ]
     },
     "metadata": {
      "needs_background": "light"
     },
     "output_type": "display_data"
    }
   ],
   "source": [
    "topic_correlation_plot(topic_model)"
   ]
  },
  {
   "cell_type": "markdown",
   "metadata": {},
   "source": [
    "Some nice visualizations and summaries for the classification data."
   ]
  },
  {
   "cell_type": "code",
   "execution_count": 45,
   "metadata": {},
   "outputs": [
    {
     "name": "stdout",
     "output_type": "stream",
     "text": [
      "1: company, business, economy, export, relation, import, infrastructure, ~international, quay, spray\n",
      "2: change, nature, tree, earth, newport, yacht, battery, renewable, stealing, stolen\n",
      "3: city, work, school, job, tourist, environment, housing, training, labour, commute\n",
      "4: harbor, ~game, free, ~pc, cruise, sydney, ~port, ~joss, vividsydney, ~really\n",
      "5: mystery, smashwords, suspense, today, safe, ~local, ~painting, ~like, ~downtown, ~uk\n"
     ]
    },
    {
     "data": {
      "text/plain": [
       "'1: company, business, economy, export, relation, import, infrastructure, ~international, quay, spray\\n2: change, nature, tree, earth, newport, yacht, battery, renewable, stealing, stolen\\n3: city, work, school, job, tourist, environment, housing, training, labour, commute\\n4: harbor, ~game, free, ~pc, cruise, sydney, ~port, ~joss, vividsydney, ~really\\n5: mystery, smashwords, suspense, today, safe, ~local, ~painting, ~like, ~downtown, ~uk'"
      ]
     },
     "execution_count": 45,
     "metadata": {},
     "output_type": "execute_result"
    }
   ],
   "source": [
    "topic_top_words(topic_model)"
   ]
  },
  {
   "cell_type": "code",
   "execution_count": 161,
   "metadata": {},
   "outputs": [
    {
     "name": "stdout",
     "output_type": "stream",
     "text": [
      "Final 3 topics tweets: 340\n"
     ]
    },
    {
     "data": {
      "text/html": [
       "<div>\n",
       "<style scoped>\n",
       "    .dataframe tbody tr th:only-of-type {\n",
       "        vertical-align: middle;\n",
       "    }\n",
       "\n",
       "    .dataframe tbody tr th {\n",
       "        vertical-align: top;\n",
       "    }\n",
       "\n",
       "    .dataframe thead th {\n",
       "        text-align: right;\n",
       "    }\n",
       "</style>\n",
       "<table border=\"1\" class=\"dataframe\">\n",
       "  <thead>\n",
       "    <tr style=\"text-align: right;\">\n",
       "      <th></th>\n",
       "      <th>id</th>\n",
       "      <th>tweet</th>\n",
       "      <th>clean_tweet</th>\n",
       "      <th>neg</th>\n",
       "      <th>neu</th>\n",
       "      <th>pos</th>\n",
       "      <th>compound</th>\n",
       "      <th>abs_sent</th>\n",
       "      <th>tokens</th>\n",
       "      <th>num_tokens</th>\n",
       "      <th>topic</th>\n",
       "      <th>PPP</th>\n",
       "    </tr>\n",
       "  </thead>\n",
       "  <tbody>\n",
       "    <tr>\n",
       "      <th>0</th>\n",
       "      <td>1503316852017025027</td>\n",
       "      <td>They hurried through the town, pursued by thro...</td>\n",
       "      <td>They hurried through the town, pursued by thro...</td>\n",
       "      <td>0.116</td>\n",
       "      <td>0.826</td>\n",
       "      <td>0.058</td>\n",
       "      <td>-0.4215</td>\n",
       "      <td>neutral</td>\n",
       "      <td>['hurried', 'town', 'pursued', 'throbbing', 's...</td>\n",
       "      <td>23.0</td>\n",
       "      <td>[True, False, False, False, False]</td>\n",
       "      <td>Profit</td>\n",
       "    </tr>\n",
       "    <tr>\n",
       "      <th>1</th>\n",
       "      <td>1503248586166919168</td>\n",
       "      <td>@geo_wanderer someone sold this to you ??  [ h...</td>\n",
       "      <td>someone sold this to you ??  [ his eyes sudde...</td>\n",
       "      <td>0.154</td>\n",
       "      <td>0.750</td>\n",
       "      <td>0.096</td>\n",
       "      <td>-0.5514</td>\n",
       "      <td>neutral</td>\n",
       "      <td>['someone', 'sold', 'eye', 'suddenly', 'glow',...</td>\n",
       "      <td>30.0</td>\n",
       "      <td>[True, False, False, False, False]</td>\n",
       "      <td>Profit</td>\n",
       "    </tr>\n",
       "    <tr>\n",
       "      <th>2</th>\n",
       "      <td>1503212705062301699</td>\n",
       "      <td>@CaenarLevia Hello, Adventurer! I see you are ...</td>\n",
       "      <td>Hello, Adventurer! I see you are a fan of the...</td>\n",
       "      <td>0.053</td>\n",
       "      <td>0.716</td>\n",
       "      <td>0.232</td>\n",
       "      <td>0.8588</td>\n",
       "      <td>neutral</td>\n",
       "      <td>['hello', 'adventurer', 'see', 'fan', 'ocean',...</td>\n",
       "      <td>22.0</td>\n",
       "      <td>[True, False, False, False, False]</td>\n",
       "      <td>Profit</td>\n",
       "    </tr>\n",
       "    <tr>\n",
       "      <th>3</th>\n",
       "      <td>1503186700520292352</td>\n",
       "      <td>@RhodaPFem Unimpressed, to say the least.   Bu...</td>\n",
       "      <td>Unimpressed, to say the least.   But he now h...</td>\n",
       "      <td>0.064</td>\n",
       "      <td>0.936</td>\n",
       "      <td>0.000</td>\n",
       "      <td>-0.1779</td>\n",
       "      <td>neutral</td>\n",
       "      <td>['unimpressed', 'say', 'least', 'little', 'pen...</td>\n",
       "      <td>16.0</td>\n",
       "      <td>[False, True, False, False, False]</td>\n",
       "      <td>Planet</td>\n",
       "    </tr>\n",
       "    <tr>\n",
       "      <th>4</th>\n",
       "      <td>1503180733594046464</td>\n",
       "      <td>Look us up...OXNARD, CA ..we sell these on the...</td>\n",
       "      <td>Look us up...OXNARD, CA ..we sell these on the...</td>\n",
       "      <td>0.000</td>\n",
       "      <td>0.820</td>\n",
       "      <td>0.180</td>\n",
       "      <td>0.8402</td>\n",
       "      <td>neutral</td>\n",
       "      <td>['look', 'u', 'oxnard', 'ca', 'sell', 'side', ...</td>\n",
       "      <td>27.0</td>\n",
       "      <td>[True, False, False, False, False]</td>\n",
       "      <td>Profit</td>\n",
       "    </tr>\n",
       "    <tr>\n",
       "      <th>5</th>\n",
       "      <td>1503164553517010947</td>\n",
       "      <td>Oak Harbor alum Andrea Cecil and her Florida G...</td>\n",
       "      <td>Oak Harbor alum Andrea Cecil and her Florida G...</td>\n",
       "      <td>0.000</td>\n",
       "      <td>1.000</td>\n",
       "      <td>0.000</td>\n",
       "      <td>0.0</td>\n",
       "      <td>neutral</td>\n",
       "      <td>['oak', 'harbor', 'alum', 'andrea', 'cecil', '...</td>\n",
       "      <td>19.0</td>\n",
       "      <td>[False, True, False, False, False]</td>\n",
       "      <td>Planet</td>\n",
       "    </tr>\n",
       "    <tr>\n",
       "      <th>6</th>\n",
       "      <td>1503131897693556738</td>\n",
       "      <td>expression loosened, one more relaxed settling...</td>\n",
       "      <td>expression loosened, one more relaxed settling...</td>\n",
       "      <td>0.000</td>\n",
       "      <td>0.915</td>\n",
       "      <td>0.085</td>\n",
       "      <td>0.5341</td>\n",
       "      <td>neutral</td>\n",
       "      <td>['expression', 'loosened', 'one', 'relaxed', '...</td>\n",
       "      <td>24.0</td>\n",
       "      <td>[False, False, True, False, False]</td>\n",
       "      <td>People</td>\n",
       "    </tr>\n",
       "    <tr>\n",
       "      <th>7</th>\n",
       "      <td>1503116527834316801</td>\n",
       "      <td>@quoththewriter It sounds like you’re doing al...</td>\n",
       "      <td>It sounds like you’re doing all you can reall...</td>\n",
       "      <td>0.000</td>\n",
       "      <td>0.705</td>\n",
       "      <td>0.295</td>\n",
       "      <td>0.9173</td>\n",
       "      <td>neutral</td>\n",
       "      <td>['sound', 'like', 'really', 'minimize', 'bubbl...</td>\n",
       "      <td>28.0</td>\n",
       "      <td>[False, False, True, False, False]</td>\n",
       "      <td>People</td>\n",
       "    </tr>\n",
       "    <tr>\n",
       "      <th>8</th>\n",
       "      <td>1503105053351100423</td>\n",
       "      <td>@zeldafrench_ I found my first grey hair at 11...</td>\n",
       "      <td>I found my first grey hair at 11 but tbf I've...</td>\n",
       "      <td>0.063</td>\n",
       "      <td>0.714</td>\n",
       "      <td>0.223</td>\n",
       "      <td>0.9113</td>\n",
       "      <td>neutral</td>\n",
       "      <td>['found', 'first', 'grey', 'hair', '11', 'tbf'...</td>\n",
       "      <td>29.0</td>\n",
       "      <td>[True, False, False, False, False]</td>\n",
       "      <td>Profit</td>\n",
       "    </tr>\n",
       "    <tr>\n",
       "      <th>9</th>\n",
       "      <td>1503091517593821187</td>\n",
       "      <td>Annie didn’t hesitate to kill everyone in the ...</td>\n",
       "      <td>Annie didn’t hesitate to kill everyone in the ...</td>\n",
       "      <td>0.299</td>\n",
       "      <td>0.701</td>\n",
       "      <td>0.000</td>\n",
       "      <td>-0.9331</td>\n",
       "      <td>neutral</td>\n",
       "      <td>['annie', 'hesitate', 'kill', 'everyone', 'har...</td>\n",
       "      <td>19.0</td>\n",
       "      <td>[False, False, True, False, False]</td>\n",
       "      <td>People</td>\n",
       "    </tr>\n",
       "  </tbody>\n",
       "</table>\n",
       "</div>"
      ],
      "text/plain": [
       "                    id                                              tweet  \\\n",
       "0  1503316852017025027  They hurried through the town, pursued by thro...   \n",
       "1  1503248586166919168  @geo_wanderer someone sold this to you ??  [ h...   \n",
       "2  1503212705062301699  @CaenarLevia Hello, Adventurer! I see you are ...   \n",
       "3  1503186700520292352  @RhodaPFem Unimpressed, to say the least.   Bu...   \n",
       "4  1503180733594046464  Look us up...OXNARD, CA ..we sell these on the...   \n",
       "5  1503164553517010947  Oak Harbor alum Andrea Cecil and her Florida G...   \n",
       "6  1503131897693556738  expression loosened, one more relaxed settling...   \n",
       "7  1503116527834316801  @quoththewriter It sounds like you’re doing al...   \n",
       "8  1503105053351100423  @zeldafrench_ I found my first grey hair at 11...   \n",
       "9  1503091517593821187  Annie didn’t hesitate to kill everyone in the ...   \n",
       "\n",
       "                                         clean_tweet    neg    neu    pos  \\\n",
       "0  They hurried through the town, pursued by thro...  0.116  0.826  0.058   \n",
       "1   someone sold this to you ??  [ his eyes sudde...  0.154  0.750  0.096   \n",
       "2   Hello, Adventurer! I see you are a fan of the...  0.053  0.716  0.232   \n",
       "3   Unimpressed, to say the least.   But he now h...  0.064  0.936  0.000   \n",
       "4  Look us up...OXNARD, CA ..we sell these on the...  0.000  0.820  0.180   \n",
       "5  Oak Harbor alum Andrea Cecil and her Florida G...  0.000  1.000  0.000   \n",
       "6  expression loosened, one more relaxed settling...  0.000  0.915  0.085   \n",
       "7   It sounds like you’re doing all you can reall...  0.000  0.705  0.295   \n",
       "8   I found my first grey hair at 11 but tbf I've...  0.063  0.714  0.223   \n",
       "9  Annie didn’t hesitate to kill everyone in the ...  0.299  0.701  0.000   \n",
       "\n",
       "  compound abs_sent                                             tokens  \\\n",
       "0  -0.4215  neutral  ['hurried', 'town', 'pursued', 'throbbing', 's...   \n",
       "1  -0.5514  neutral  ['someone', 'sold', 'eye', 'suddenly', 'glow',...   \n",
       "2   0.8588  neutral  ['hello', 'adventurer', 'see', 'fan', 'ocean',...   \n",
       "3  -0.1779  neutral  ['unimpressed', 'say', 'least', 'little', 'pen...   \n",
       "4   0.8402  neutral  ['look', 'u', 'oxnard', 'ca', 'sell', 'side', ...   \n",
       "5      0.0  neutral  ['oak', 'harbor', 'alum', 'andrea', 'cecil', '...   \n",
       "6   0.5341  neutral  ['expression', 'loosened', 'one', 'relaxed', '...   \n",
       "7   0.9173  neutral  ['sound', 'like', 'really', 'minimize', 'bubbl...   \n",
       "8   0.9113  neutral  ['found', 'first', 'grey', 'hair', '11', 'tbf'...   \n",
       "9  -0.9331  neutral  ['annie', 'hesitate', 'kill', 'everyone', 'har...   \n",
       "\n",
       "   num_tokens                               topic     PPP  \n",
       "0        23.0  [True, False, False, False, False]  Profit  \n",
       "1        30.0  [True, False, False, False, False]  Profit  \n",
       "2        22.0  [True, False, False, False, False]  Profit  \n",
       "3        16.0  [False, True, False, False, False]  Planet  \n",
       "4        27.0  [True, False, False, False, False]  Profit  \n",
       "5        19.0  [False, True, False, False, False]  Planet  \n",
       "6        24.0  [False, False, True, False, False]  People  \n",
       "7        28.0  [False, False, True, False, False]  People  \n",
       "8        29.0  [True, False, False, False, False]  Profit  \n",
       "9        19.0  [False, False, True, False, False]  People  "
      ]
     },
     "execution_count": 161,
     "metadata": {},
     "output_type": "execute_result"
    }
   ],
   "source": [
    "def all_false_remover(df_in, model):\n",
    "    df = df_in.copy()\n",
    "    false_list = [False for _ in range(model.labels.shape[1])]\n",
    "    df['all_false'] = df['topic'].apply(lambda topic: True if topic == false_list else False)\n",
    "    df = df.drop(df[df['all_false']==True].index)\n",
    "    df.drop(['all_false'],axis=1,inplace=True)\n",
    "    df.reset_index(drop=True, inplace=True)\n",
    "    return df\n",
    "    \n",
    "# Final dataframe\n",
    "ppp_twitter = useful_twitter.copy()\n",
    "ppp_twitter.reset_index(inplace=True, drop=True)\n",
    "ppp_twitter['topic']=get_topic_list(topic_model)\n",
    "ppp_twitter = select_topics(ppp_twitter, topic_model.labels, selected_topics=[3, 4], remove=True, drop_column=False)\n",
    "\n",
    "def number_topic(topic, num_topics = 5):\n",
    "    topic_dict = {\n",
    "        1: \"Profit\",\n",
    "        2: \"Planet\",\n",
    "        3: \"People\",\n",
    "    }\n",
    "    list_of_lists = list()\n",
    "    for topic_num in range(3):\n",
    "        list_of_lists.append([False for _ in range(num_topics)])\n",
    "        list_of_lists[topic_num][topic_num] = True\n",
    "    for topic_num in range(3):\n",
    "        if topic == list_of_lists[topic_num]:\n",
    "            return topic_dict[topic_num+1]\n",
    "    return \"Combination\"\n",
    "\n",
    "\n",
    "# Remove \"all false\" topics (i.e. not belonging to anything)\n",
    "ppp_twitter = all_false_remover(ppp_twitter, topic_model)\n",
    "print(f\"Final 3 topics tweets: {len(ppp_twitter.index)}\")\n",
    "ppp_twitter.head(20)\n",
    "\n",
    "ppp_twitter['PPP'] = ppp_twitter['topic'].apply(number_topic)\n",
    "\n",
    "ppp_twitter['pos'] = pd.to_numeric(ppp_twitter['pos'])\n",
    "ppp_twitter['neg'] = pd.to_numeric(ppp_twitter['neg'])\n",
    "ppp_twitter['neu'] = pd.to_numeric(ppp_twitter['neu'])\n",
    "\n",
    "ppp_twitter.head(10)"
   ]
  },
  {
   "cell_type": "markdown",
   "metadata": {},
   "source": [
    "Quick explanation of the important output files in folder:\n",
    "- `labels.txt` -> To which group does each tweet belong\n",
    "  - Similar to `topic_model.labels`\n",
    "- `topics.txt` -> Top words of each topic"
   ]
  },
  {
   "cell_type": "markdown",
   "metadata": {},
   "source": [
    "## Visualizations\n"
   ]
  },
  {
   "cell_type": "code",
   "execution_count": 164,
   "metadata": {},
   "outputs": [
    {
     "data": {
      "text/plain": [
       "<seaborn.axisgrid.FacetGrid at 0x7faab17359a0>"
      ]
     },
     "execution_count": 164,
     "metadata": {},
     "output_type": "execute_result"
    },
    {
     "data": {
      "image/png": "[encoded data removed]",
      "text/plain": [
       "<Figure size 459.25x360 with 1 Axes>"
      ]
     },
     "metadata": {
      "needs_background": "light"
     },
     "output_type": "display_data"
    }
   ],
   "source": [
    "# Positive\n",
    "import seaborn as sns\n",
    "sns.displot(data=ppp_twitter, x=\"neg\", hue='PPP', kind='kde')"
   ]
  },
  {
   "cell_type": "code",
   "execution_count": 165,
   "metadata": {},
   "outputs": [
    {
     "data": {
      "text/plain": [
       "<seaborn.axisgrid.FacetGrid at 0x7faaa1d532e0>"
      ]
     },
     "execution_count": 165,
     "metadata": {},
     "output_type": "execute_result"
    },
    {
     "data": {
      "image/png": "[encoded data removed]",
      "text/plain": [
       "<Figure size 459.25x360 with 1 Axes>"
      ]
     },
     "metadata": {
      "needs_background": "light"
     },
     "output_type": "display_data"
    }
   ],
   "source": [
    "# Positive\n",
    "sns.displot(data=ppp_twitter, x=\"pos\", hue='PPP', kind='kde')"
   ]
  },
  {
   "cell_type": "code",
   "execution_count": 166,
   "metadata": {},
   "outputs": [
    {
     "data": {
      "text/plain": [
       "<seaborn.axisgrid.FacetGrid at 0x7faa528ab910>"
      ]
     },
     "execution_count": 166,
     "metadata": {},
     "output_type": "execute_result"
    },
    {
     "data": {
      "image/png": "[encoded data removed]",
      "text/plain": [
       "<Figure size 459.25x360 with 1 Axes>"
      ]
     },
     "metadata": {
      "needs_background": "light"
     },
     "output_type": "display_data"
    }
   ],
   "source": [
    "# Positive\n",
    "import seaborn as sns\n",
    "sns.displot(data=ppp_twitter, x=\"neu\", hue='PPP', kind='kde')"
   ]
  },
  {
   "cell_type": "markdown",
   "metadata": {},
   "source": [
    "### Total sentiment analysis"
   ]
  },
  {
   "cell_type": "code",
   "execution_count": 167,
   "metadata": {},
   "outputs": [
    {
     "data": {
      "text/plain": [
       "<Figure size 720x360 with 0 Axes>"
      ]
     },
     "metadata": {},
     "output_type": "display_data"
    },
    {
     "data": {
      "image/png": "[encoded data removed]",
      "text/plain": [
       "<Figure size 360x360 with 1 Axes>"
      ]
     },
     "metadata": {
      "needs_background": "light"
     },
     "output_type": "display_data"
    }
   ],
   "source": [
    "import seaborn as sns\n",
    "plt.figure()\n",
    "sns.displot(data=ppp_twitter, x='PPP')\n",
    "plt.show()"
   ]
  },
  {
   "cell_type": "code",
   "execution_count": 78,
   "metadata": {},
   "outputs": [
    {
     "data": {
      "text/plain": [
       "<Figure size 720x360 with 0 Axes>"
      ]
     },
     "metadata": {},
     "output_type": "display_data"
    },
    {
     "data": {
      "image/png": "[encoded data removed]",
      "text/plain": [
       "<Figure size 360x360 with 1 Axes>"
      ]
     },
     "metadata": {
      "needs_background": "light"
     },
     "output_type": "display_data"
    }
   ],
   "source": [
    "import seaborn as sns\n",
    "plt.figure()\n",
    "sns.displot(data=ppp_twitter, x='abs_sent')\n",
    "plt.show()"
   ]
  },
  {
   "cell_type": "code",
   "execution_count": 79,
   "metadata": {},
   "outputs": [
    {
     "data": {
      "text/plain": [
       "<seaborn.axisgrid.FacetGrid at 0x7faa881f7910>"
      ]
     },
     "execution_count": 79,
     "metadata": {},
     "output_type": "execute_result"
    },
    {
     "data": {
      "image/png": "[encoded data removed]",
      "text/plain": [
       "<Figure size 360x360 with 1 Axes>"
      ]
     },
     "metadata": {
      "needs_background": "light"
     },
     "output_type": "display_data"
    }
   ],
   "source": [
    "sns.displot(data=ppp_twitter[~ppp_twitter[\"abs_sent\"].isin([\"neutral\"])], x='abs_sent')"
   ]
  },
  {
   "cell_type": "markdown",
   "metadata": {},
   "source": [
    "# TODO:\n",
    "1. Filter out very short tweets DONE\n",
    "2. Get some nice graphs/plots (e.g. wordclouds from the tokens across all tweets, sentiment analysis summary, etc.)\n",
    "3. Finish topic classification with the large dataset (i.e. port_only.csv).\n",
    "   1. Maybe change the anchors\n",
    "   2. Get the final topics (i.e. number of topics, keywords, etc.)\n",
    "   3. Get some nice graphs (e.g. words per topic)\n",
    "4. (Maybe) fancy cross-correlation plot of sentiment by topic (i.e. are \"sustainable\" tweets more positive or negative?)\n",
    "5. Do all of the above for the large dataset (`port_only`), not the small one (`all_hashtags`).\n",
    "\n",
    "\n",
    "- Wordmap -> All tweets\n",
    "- Bar graph for each topic (i.e. how many topics per tweet)\n",
    "- Sentiment according to topic"
   ]
  },
  {
   "cell_type": "markdown",
   "metadata": {},
   "source": []
  },
  {
   "cell_type": "markdown",
   "metadata": {},
   "source": []
  }
 ],
 "metadata": {
  "interpreter": {
   "hash": "4e1f181429d49be125055ad9515b0eafe15ddb54ea842c1afa9de67712d58328"
  },
  "kernelspec": {
   "display_name": "Python 3.9.1 64-bit ('3.9.1')",
   "language": "python",
   "name": "python3"
  },
  "language_info": {
   "codemirror_mode": {
    "name": "ipython",
    "version": 3
   },
   "file_extension": ".py",
   "mimetype": "text/x-python",
   "name": "python",
   "nbconvert_exporter": "python",
   "pygments_lexer": "ipython3",
   "version": "3.9.1"
  },
  "orig_nbformat": 4
 },
 "nbformat": 4,
 "nbformat_minor": 2
}
