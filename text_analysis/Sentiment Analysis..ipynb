{
 "cells": [
  {
   "cell_type": "code",
   "execution_count": 9,
   "metadata": {},
   "outputs": [
    {
     "ename": "ERROR",
     "evalue": "Error in library(quanteda): there is no package called ‘quanteda’\n",
     "output_type": "error",
     "traceback": [
      "Error in library(quanteda): there is no package called ‘quanteda’\nTraceback:\n",
      "1. library(quanteda)"
     ]
    }
   ],
   "source": [
    "library(dplyr)\n",
    "library(tidytext)\n",
    "library(ggplot2)\n",
    "library(tidyr)\n",
    "#library(bing)\n",
    "#library(AFINN)\n",
    "# library(readtext)\n",
    "library(quanteda)\n",
    "library(stopwords)\n",
    "library(stringr)\n",
    "#library(tidyverse)\n",
    "library(ldatuning)\n",
    "library(stm)\n"
   ]
  },
  {
   "cell_type": "code",
   "execution_count": null,
   "metadata": {},
   "outputs": [],
   "source": []
  }
 ],
 "metadata": {
  "interpreter": {
   "hash": "4e1f181429d49be125055ad9515b0eafe15ddb54ea842c1afa9de67712d58328"
  },
  "kernelspec": {
   "display_name": "R",
   "language": "R",
   "name": "ir"
  },
  "language_info": {
   "codemirror_mode": "r",
   "file_extension": ".r",
   "mimetype": "text/x-r-source",
   "name": "R",
   "pygments_lexer": "r",
   "version": "3.6.1"
  },
  "orig_nbformat": 4
 },
 "nbformat": 4,
 "nbformat_minor": 2
}
